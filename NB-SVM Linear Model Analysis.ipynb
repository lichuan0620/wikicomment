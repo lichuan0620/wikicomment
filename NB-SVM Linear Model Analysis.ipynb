{
 "cells": [
  {
   "cell_type": "markdown",
   "metadata": {},
   "source": [
    "# 1. Loading Data"
   ]
  },
  {
   "cell_type": "code",
   "execution_count": 1,
   "metadata": {},
   "outputs": [],
   "source": [
    "from IPython.display import clear_output\n",
    "\n",
    "def hint(message):\n",
    "    \"\"\"\n",
    "    erase previous ipynb output and show new message\n",
    "    \"\"\"\n",
    "    clear_output()\n",
    "    print(message)"
   ]
  },
  {
   "cell_type": "code",
   "execution_count": 2,
   "metadata": {},
   "outputs": [
    {
     "name": "stdout",
     "output_type": "stream",
     "text": [
      "Done\n"
     ]
    }
   ],
   "source": [
    "import pandas as pd\n",
    "import numpy as np\n",
    "from sklearn.model_selection import train_test_split\n",
    "\n",
    "hint('loading data...')\n",
    "train = pd.read_csv('data/train.csv')\n",
    "labels = [\n",
    "    'toxic', \n",
    "    'severe_toxic', \n",
    "    'obscene', \n",
    "    'threat', \n",
    "    'insult', \n",
    "    'identity_hate'\n",
    "]\n",
    "hint('Done')"
   ]
  },
  {
   "cell_type": "markdown",
   "metadata": {},
   "source": [
    "# 2. Pre-processing"
   ]
  },
  {
   "cell_type": "code",
   "execution_count": 3,
   "metadata": {},
   "outputs": [
    {
     "name": "stdout",
     "output_type": "stream",
     "text": [
      "Done\n"
     ]
    }
   ],
   "source": [
    "from sklearn.feature_extraction.text import TfidfVectorizer\n",
    "\n",
    "hint(\"Building char vectors...\")\n",
    "char_vectorizer = TfidfVectorizer(\n",
    "    sublinear_tf=True,\n",
    "    strip_accents='unicode',\n",
    "    analyzer='char',\n",
    "    ngram_range=(2, 6),\n",
    "    max_features=50000)\n",
    "Xchar = char_vectorizer.fit_transform(train['comment_text'])\n",
    "\n",
    "hint(\"Building word vectors...\")\n",
    "word_vectorizer = TfidfVectorizer(\n",
    "    sublinear_tf=True,\n",
    "    strip_accents='unicode',\n",
    "    token_pattern=r'\\w{1,}',\n",
    "    ngram_range=(1, 1),\n",
    "    max_features=10000\n",
    ")\n",
    "Xword = word_vectorizer.fit_transform(train['comment_text'])\n",
    "\n",
    "hint('Done')"
   ]
  },
  {
   "cell_type": "markdown",
   "metadata": {},
   "source": [
    "# 3. Finding C Value (Regularization Strength)"
   ]
  },
  {
   "cell_type": "code",
   "execution_count": 4,
   "metadata": {},
   "outputs": [
    {
     "name": "stdout",
     "output_type": "stream",
     "text": [
      "Best C is 0.5000\n"
     ]
    }
   ],
   "source": [
    "from scipy.sparse import hstack\n",
    "from sklearn.linear_model import LogisticRegressionCV\n",
    "from sklearn.model_selection import cross_val_score\n",
    "\n",
    "def pr(X, y_i, y):\n",
    "    p = X[y==y_i].sum(0)\n",
    "    return (p+1) / ((y==y_i).sum()+1)\n",
    "\n",
    "def find_best_C():\n",
    "    Y = train['toxic'].values\n",
    "    r1 = np.log(pr(Xchar, 1, Y) / pr(Xchar, 0, Y))\n",
    "    r2 = np.log(pr(Xword, 1, Y) / pr(Xword, 0, Y))\n",
    "    X = hstack([Xchar.multiply(r1), Xword.multiply(r2)])\n",
    "    lg = LogisticRegressionCV(\n",
    "        Cs=[4, 2, 1, 0.5, 0.25],\n",
    "        cv=3, \n",
    "        max_iter=200, \n",
    "        class_weight='balanced',\n",
    "        scoring='roc_auc', \n",
    "        solver='sag'\n",
    "    )\n",
    "    lg.fit(X, Y)\n",
    "    return lg.C_\n",
    "\n",
    "search_for_c = True\n",
    "best_C = find_best_C() if search_for_c else 1\n",
    "hint('Best C is %.4f' % best_C)"
   ]
  },
  {
   "cell_type": "markdown",
   "metadata": {},
   "source": [
    "# 4. Analysis and Submission"
   ]
  },
  {
   "cell_type": "code",
   "execution_count": 5,
   "metadata": {},
   "outputs": [
    {
     "name": "stdout",
     "output_type": "stream",
     "text": [
      "Done\n"
     ]
    }
   ],
   "source": [
    "make_submission = True\n",
    "scoring = True\n",
    "\n",
    "if make_submission:\n",
    "    hint(\"Loading test set\")\n",
    "    test = pd.read_csv('data/test.csv')\n",
    "\n",
    "    hint(\"Transforming\")\n",
    "    Xword_ = word_vectorizer.transform(test['comment_text'])\n",
    "    Xchar_ = char_vectorizer.transform(test['comment_text'])\n",
    "\n",
    "hint(\"Done\")"
   ]
  },
  {
   "cell_type": "code",
   "execution_count": 6,
   "metadata": {},
   "outputs": [
    {
     "name": "stdout",
     "output_type": "stream",
     "text": [
      "Working on label toxic\n",
      "Scoring...\n",
      "CVed AUC for class toxic: 0.9811\n",
      "Fitting...\n",
      "Predicting...\n",
      "Working on label severe_toxic\n",
      "Scoring...\n"
     ]
    },
    {
     "name": "stderr",
     "output_type": "stream",
     "text": [
      "c:\\users\\chuanli\\appdata\\local\\programs\\python\\python35\\lib\\site-packages\\sklearn\\linear_model\\sag.py:326: ConvergenceWarning: The max_iter was reached which means the coef_ did not converge\n",
      "  \"the coef_ did not converge\", ConvergenceWarning)\n",
      "c:\\users\\chuanli\\appdata\\local\\programs\\python\\python35\\lib\\site-packages\\sklearn\\linear_model\\sag.py:326: ConvergenceWarning: The max_iter was reached which means the coef_ did not converge\n",
      "  \"the coef_ did not converge\", ConvergenceWarning)\n",
      "c:\\users\\chuanli\\appdata\\local\\programs\\python\\python35\\lib\\site-packages\\sklearn\\linear_model\\sag.py:326: ConvergenceWarning: The max_iter was reached which means the coef_ did not converge\n",
      "  \"the coef_ did not converge\", ConvergenceWarning)\n"
     ]
    },
    {
     "name": "stdout",
     "output_type": "stream",
     "text": [
      "CVed AUC for class severe_toxic: 0.9838\n",
      "Fitting...\n",
      "Predicting...\n",
      "Working on label obscene\n",
      "Scoring...\n",
      "CVed AUC for class obscene: 0.9924\n",
      "Fitting...\n",
      "Predicting...\n",
      "Working on label threat\n",
      "Scoring...\n"
     ]
    },
    {
     "name": "stderr",
     "output_type": "stream",
     "text": [
      "c:\\users\\chuanli\\appdata\\local\\programs\\python\\python35\\lib\\site-packages\\sklearn\\linear_model\\sag.py:326: ConvergenceWarning: The max_iter was reached which means the coef_ did not converge\n",
      "  \"the coef_ did not converge\", ConvergenceWarning)\n",
      "c:\\users\\chuanli\\appdata\\local\\programs\\python\\python35\\lib\\site-packages\\sklearn\\linear_model\\sag.py:326: ConvergenceWarning: The max_iter was reached which means the coef_ did not converge\n",
      "  \"the coef_ did not converge\", ConvergenceWarning)\n",
      "c:\\users\\chuanli\\appdata\\local\\programs\\python\\python35\\lib\\site-packages\\sklearn\\linear_model\\sag.py:326: ConvergenceWarning: The max_iter was reached which means the coef_ did not converge\n",
      "  \"the coef_ did not converge\", ConvergenceWarning)\n"
     ]
    },
    {
     "name": "stdout",
     "output_type": "stream",
     "text": [
      "CVed AUC for class threat: 0.9752\n",
      "Fitting...\n",
      "Predicting...\n",
      "Working on label insult\n",
      "Scoring...\n",
      "CVed AUC for class insult: 0.9852\n",
      "Fitting...\n",
      "Predicting...\n",
      "Working on label identity_hate\n",
      "Scoring...\n"
     ]
    },
    {
     "name": "stderr",
     "output_type": "stream",
     "text": [
      "c:\\users\\chuanli\\appdata\\local\\programs\\python\\python35\\lib\\site-packages\\sklearn\\linear_model\\sag.py:326: ConvergenceWarning: The max_iter was reached which means the coef_ did not converge\n",
      "  \"the coef_ did not converge\", ConvergenceWarning)\n",
      "c:\\users\\chuanli\\appdata\\local\\programs\\python\\python35\\lib\\site-packages\\sklearn\\linear_model\\sag.py:326: ConvergenceWarning: The max_iter was reached which means the coef_ did not converge\n",
      "  \"the coef_ did not converge\", ConvergenceWarning)\n",
      "c:\\users\\chuanli\\appdata\\local\\programs\\python\\python35\\lib\\site-packages\\sklearn\\linear_model\\sag.py:326: ConvergenceWarning: The max_iter was reached which means the coef_ did not converge\n",
      "  \"the coef_ did not converge\", ConvergenceWarning)\n"
     ]
    },
    {
     "name": "stdout",
     "output_type": "stream",
     "text": [
      "CVed AUC for class identity_hate: 0.9770\n",
      "Fitting...\n",
      "Predicting...\n"
     ]
    }
   ],
   "source": [
    "from sklearn.linear_model import LogisticRegression\n",
    "from sklearn.model_selection import cross_val_score\n",
    "scores = []\n",
    "preds = np.zeros((test.shape[0], len(labels)))\n",
    "for i, label in enumerate(labels):\n",
    "    print(\"Working on label %s\" % label)\n",
    "    Y = train[label].values\n",
    "    r1 = np.log(pr(Xword, 1, Y) / pr(Xword, 0, Y))\n",
    "    r2 = np.log(pr(Xchar, 1, Y) / pr(Xchar, 0, Y))\n",
    "    lg = LogisticRegression(C=best_C[0], max_iter=200, class_weight='balanced', solver='sag')\n",
    "    X = hstack([Xword.multiply(r1), Xchar.multiply(r2)])\n",
    "    if scoring:\n",
    "        print(\"Scoring...\")\n",
    "        score = np.mean(cross_val_score(lg, X, Y, cv=3, scoring='roc_auc'))\n",
    "        print(\"CVed AUC for class %s: %.4f\" % (label, score))\n",
    "        scores.append(score)\n",
    "    if make_submission:\n",
    "        print(\"Fitting...\")\n",
    "        lg.fit(X, Y)\n",
    "        print(\"Predicting...\")\n",
    "        X_ = hstack([Xword_.multiply(r1), Xchar_.multiply(r2)])\n",
    "        preds[:, i] = lg.predict_proba(X_)[:, 1]"
   ]
  },
  {
   "cell_type": "code",
   "execution_count": 7,
   "metadata": {},
   "outputs": [
    {
     "name": "stdout",
     "output_type": "stream",
     "text": [
      "Global CVed AUC: 0.9825\n"
     ]
    }
   ],
   "source": [
    "if scoring: print(\"Global CVed AUC: %.4f\" % (np.mean(scores)))"
   ]
  },
  {
   "cell_type": "code",
   "execution_count": 8,
   "metadata": {},
   "outputs": [
    {
     "name": "stdout",
     "output_type": "stream",
     "text": [
      "Done\n"
     ]
    }
   ],
   "source": [
    "if make_submission:\n",
    "    from time import strftime\n",
    "    hint(\"Uploading...\")\n",
    "    file_name = 'submission_' + strftime(\"%Y%m%d-%H%M%S\") + '.csv'\n",
    "    sumbit_id = pd.DataFrame({'id': test['id']})\n",
    "    sumbit_labels = pd.DataFrame(preds, columns=labels)\n",
    "    submission = pd.concat([sumbit_id, sumbit_labels], axis=1)\n",
    "    submission.to_csv(file_name, index=False)\n",
    "    hint(\"Done\")"
   ]
  },
  {
   "cell_type": "code",
   "execution_count": null,
   "metadata": {},
   "outputs": [],
   "source": []
  }
 ],
 "metadata": {
  "kernelspec": {
   "display_name": "Python 3",
   "language": "python",
   "name": "python3"
  },
  "language_info": {
   "codemirror_mode": {
    "name": "ipython",
    "version": 3
   },
   "file_extension": ".py",
   "mimetype": "text/x-python",
   "name": "python",
   "nbconvert_exporter": "python",
   "pygments_lexer": "ipython3",
   "version": "3.5.2"
  }
 },
 "nbformat": 4,
 "nbformat_minor": 2
}
