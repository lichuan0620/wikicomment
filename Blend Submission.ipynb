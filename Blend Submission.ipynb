{
 "cells": [
  {
   "cell_type": "code",
   "execution_count": 1,
   "metadata": {},
   "outputs": [
    {
     "ename": "TypeError",
     "evalue": "can only concatenate list (not \"int\") to list",
     "output_type": "error",
     "traceback": [
      "\u001b[1;31m---------------------------------------------------------------------------\u001b[0m",
      "\u001b[1;31mTypeError\u001b[0m                                 Traceback (most recent call last)",
      "\u001b[1;32m<ipython-input-1-bf6881598a65>\u001b[0m in \u001b[0;36m<module>\u001b[1;34m()\u001b[0m\n\u001b[0;32m     18\u001b[0m \u001b[1;33m\u001b[0m\u001b[0m\n\u001b[0;32m     19\u001b[0m \u001b[1;32mfor\u001b[0m \u001b[0mi\u001b[0m\u001b[1;33m,\u001b[0m \u001b[0mlabel\u001b[0m \u001b[1;32min\u001b[0m \u001b[0menumerate\u001b[0m\u001b[1;33m(\u001b[0m\u001b[0mlabels\u001b[0m\u001b[1;33m)\u001b[0m\u001b[1;33m:\u001b[0m\u001b[1;33m\u001b[0m\u001b[0m\n\u001b[1;32m---> 20\u001b[1;33m     \u001b[0mtotal_weight\u001b[0m \u001b[1;33m=\u001b[0m \u001b[0mpooled_RCNN_weight\u001b[0m \u001b[1;33m+\u001b[0m \u001b[0mLG_NBSVM_weight\u001b[0m\u001b[1;33m[\u001b[0m\u001b[0mi\u001b[0m\u001b[1;33m]\u001b[0m \u001b[1;33m+\u001b[0m \u001b[0mchar_DRCNN_weight\u001b[0m\u001b[1;33m[\u001b[0m\u001b[0mi\u001b[0m\u001b[1;33m]\u001b[0m\u001b[1;33m\u001b[0m\u001b[0m\n\u001b[0m\u001b[0;32m     21\u001b[0m     best[label] = (\n\u001b[0;32m     22\u001b[0m         \u001b[0mpooled_RCNN\u001b[0m\u001b[1;33m[\u001b[0m\u001b[0mlabel\u001b[0m\u001b[1;33m]\u001b[0m \u001b[1;33m*\u001b[0m \u001b[0mpooled_RCNN_weight\u001b[0m\u001b[1;33m[\u001b[0m\u001b[0mi\u001b[0m\u001b[1;33m]\u001b[0m \u001b[1;33m+\u001b[0m\u001b[1;33m\u001b[0m\u001b[0m\n",
      "\u001b[1;31mTypeError\u001b[0m: can only concatenate list (not \"int\") to list"
     ]
    }
   ],
   "source": [
    "import numpy as np\n",
    "import pandas as pd\n",
    "from time import strftime\n",
    "\n",
    "pooled_RCNN = pd.read_csv('submission_20180311-185039.csv')\n",
    "LG_NBSVM = pd.read_csv('submission_20180315-184401.csv')\n",
    "char_DRCNN = pd.read_csv('submission_20180319-200915.csv')\n",
    "\n",
    "labels = [\"toxic\", \"severe_toxic\", \"obscene\", \"threat\", \"insult\", \"identity_hate\"]\n",
    "\n",
    "file_name = 'submission_' + strftime(\"%Y%m%d-%H%M%S\") + '.csv'\n",
    "\n",
    "best = pooled_RCNN.copy()\n",
    "\n",
    "pooled_RCNN_weight = [2]*6\n",
    "LG_NBSVM_weight = [1]*6\n",
    "char_DRCNN_weight = [0.5]*6\n",
    "\n",
    "for i, label in enumerate(labels):\n",
    "    total_weight = pooled_RCNN_weight + LG_NBSVM_weight[i] + char_DRCNN_weight[i]\n",
    "    best[label] = (\n",
    "        pooled_RCNN[label] * pooled_RCNN_weight[i] + \n",
    "        LG_NBSVM[label] * LG_NBSVM_weight[i] +\n",
    "        char_DRCNN[label] * char_DRCNN_weight[i]\n",
    "    ) / total_weight\n",
    "\n",
    "best.to_csv(file_name, index=False)\n",
    "\n",
    "print(\"Completed. Result saved as %s\" % file_name)"
   ]
  },
  {
   "cell_type": "code",
   "execution_count": null,
   "metadata": {},
   "outputs": [],
   "source": []
  }
 ],
 "metadata": {
  "kernelspec": {
   "display_name": "Python 3",
   "language": "python",
   "name": "python3"
  },
  "language_info": {
   "codemirror_mode": {
    "name": "ipython",
    "version": 3
   },
   "file_extension": ".py",
   "mimetype": "text/x-python",
   "name": "python",
   "nbconvert_exporter": "python",
   "pygments_lexer": "ipython3",
   "version": "3.5.2"
  }
 },
 "nbformat": 4,
 "nbformat_minor": 2
}
