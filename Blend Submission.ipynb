{
 "cells": [
  {
   "cell_type": "code",
   "execution_count": 3,
   "metadata": {},
   "outputs": [
    {
     "name": "stdout",
     "output_type": "stream",
     "text": [
      "Completed. Result saved as submission_20180315-212128.csv\n"
     ]
    }
   ],
   "source": [
    "import numpy as np\n",
    "import pandas as pd\n",
    "from time import strftime\n",
    "\n",
    "pooled_RCNN = pd.read_csv('submission_20180311-185039.csv')\n",
    "LG_NBSVM = pd.read_csv('submission_20180315-184401.csv')\n",
    "\n",
    "labels = [\"toxic\", \"severe_toxic\", \"obscene\", \"threat\", \"insult\", \"identity_hate\"]\n",
    "\n",
    "file_name = 'submission_' + strftime(\"%Y%m%d-%H%M%S\") + '.csv'\n",
    "\n",
    "best = pooled_RCNN.copy()\n",
    "\n",
    "pooled_RCNN_weight = 2\n",
    "LG_NBSVM_weight = [0.81, 0.84, 0.92, 0.75, 0.85, 0.77]\n",
    "\n",
    "for i, label in enumerate(labels):\n",
    "    total_weight = pooled_RCNN_weight + LG_NBSVM_weight[i]\n",
    "    best[label] = (\n",
    "        pooled_RCNN[label] * pooled_RCNN_weight + \n",
    "        LG_NBSVM[label] * LG_NBSVM_weight[i]\n",
    "    ) / total_weight\n",
    "\n",
    "best.to_csv(file_name, index=False)\n",
    "\n",
    "print(\"Completed. Result saved as %s\" % file_name)"
   ]
  },
  {
   "cell_type": "code",
   "execution_count": null,
   "metadata": {},
   "outputs": [],
   "source": []
  }
 ],
 "metadata": {
  "kernelspec": {
   "display_name": "Python 3",
   "language": "python",
   "name": "python3"
  },
  "language_info": {
   "codemirror_mode": {
    "name": "ipython",
    "version": 3
   },
   "file_extension": ".py",
   "mimetype": "text/x-python",
   "name": "python",
   "nbconvert_exporter": "python",
   "pygments_lexer": "ipython3",
   "version": "3.5.2"
  }
 },
 "nbformat": 4,
 "nbformat_minor": 2
}
