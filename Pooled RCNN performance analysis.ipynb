{
 "cells": [
  {
   "cell_type": "markdown",
   "metadata": {},
   "source": [
    "In this notebook, we will test a pooled RCNN model."
   ]
  },
  {
   "cell_type": "markdown",
   "metadata": {
    "colab_type": "text",
    "id": "dXsRFoKJSNrH"
   },
   "source": [
    "# 1. Preparation\n",
    "We need to first import the required library, download the data, and load the data into the memory."
   ]
  },
  {
   "cell_type": "markdown",
   "metadata": {
    "colab_type": "text",
    "id": "swLpnk4u4XKo"
   },
   "source": [
    "## 1.1 Import"
   ]
  },
  {
   "cell_type": "code",
   "execution_count": 11,
   "metadata": {
    "colab": {
     "autoexec": {
      "startup": false,
      "wait_interval": 0
     },
     "base_uri": "https://localhost:8080/",
     "height": 394,
     "output_extras": [
      {
       "item_id": 5
      },
      {
       "item_id": 6
      }
     ]
    },
    "colab_type": "code",
    "executionInfo": {
     "elapsed": 4509,
     "status": "ok",
     "timestamp": 1518570583550,
     "user": {
      "displayName": "Chuan Li",
      "photoUrl": "//lh3.googleusercontent.com/-ry1V_A03qTg/AAAAAAAAAAI/AAAAAAAAAh4/Ea41Em8n49A/s50-c-k-no/photo.jpg",
      "userId": "106476928809257656982"
     },
     "user_tz": 480
    },
    "id": "9_NbEq2FSFLe",
    "outputId": "58bb96d9-3ffa-4ccf-b90a-c2db87f537b0"
   },
   "outputs": [
    {
     "name": "stdout",
     "output_type": "stream",
     "text": [
      "Importing required packages...\n",
      "[nltk_data] Downloading package stopwords to\n",
      "[nltk_data]     C:\\Users\\ChuanLi\\AppData\\Roaming\\nltk_data...\n",
      "[nltk_data]   Package stopwords is already up-to-date!\n",
      "[nltk_data] Downloading package wordnet to\n",
      "[nltk_data]     C:\\Users\\ChuanLi\\AppData\\Roaming\\nltk_data...\n",
      "[nltk_data]   Package wordnet is already up-to-date!\n"
     ]
    }
   ],
   "source": [
    "print('Importing required packages...')\n",
    "\n",
    "from IPython.display import clear_output\n",
    "import re\n",
    "import csv\n",
    "import pandas as pd\n",
    "import numpy as np\n",
    "np.random.seed()\n",
    "import matplotlib.pyplot as plt\n",
    "import nltk\n",
    "from nltk.tokenize import TweetTokenizer\n",
    "nltk.download('stopwords')\n",
    "from nltk.stem.wordnet import WordNetLemmatizer \n",
    "nltk.download('wordnet')\n",
    "from keras.preprocessing import sequence\n",
    "from keras.preprocessing import text as ktxt\n",
    "from keras.models import Sequential\n",
    "from keras.layers import Input, Dense, Embedding, GRU, SpatialDropout1D, Bidirectional\n",
    "from keras.layers import concatenate, GlobalAveragePooling1D, GlobalMaxPooling1D\n",
    "from keras.layers.convolutional import Conv1D, MaxPooling1D\n",
    "from keras.models import Model\n",
    "from keras.callbacks import EarlyStopping\n",
    "from sklearn.model_selection import train_test_split\n",
    "from sklearn import metrics\n",
    "from sklearn.utils import class_weight\n",
    "\n",
    "\n",
    "def hint(message):\n",
    "    \"\"\"\n",
    "    erase previous ipynb output and show new message\n",
    "    \"\"\"\n",
    "    clear_output()\n",
    "    print(message)\n",
    "\n",
    "  "
   ]
  },
  {
   "cell_type": "markdown",
   "metadata": {
    "colab_type": "text",
    "id": "0oMhFbcOS7ch"
   },
   "source": [
    "## 1.2 Loading the Data"
   ]
  },
  {
   "cell_type": "code",
   "execution_count": 2,
   "metadata": {
    "colab": {
     "autoexec": {
      "startup": false,
      "wait_interval": 0
     },
     "base_uri": "https://localhost:8080/",
     "height": 153,
     "output_extras": [
      {
       "item_id": 1
      }
     ]
    },
    "colab_type": "code",
    "executionInfo": {
     "elapsed": 128,
     "status": "ok",
     "timestamp": 1518570590592,
     "user": {
      "displayName": "Chuan Li",
      "photoUrl": "//lh3.googleusercontent.com/-ry1V_A03qTg/AAAAAAAAAAI/AAAAAAAAAh4/Ea41Em8n49A/s50-c-k-no/photo.jpg",
      "userId": "106476928809257656982"
     },
     "user_tz": 480
    },
    "id": "C1nwDbfiS-vX",
    "outputId": "d69716f3-d89c-49a1-91d3-7cfe42286b4b"
   },
   "outputs": [
    {
     "name": "stdout",
     "output_type": "stream",
     "text": [
      "Label distribution between training and validation set:\n",
      "           label     train  validation\n",
      "0          toxic  0.095687    0.096475\n",
      "1   severe_toxic  0.009745    0.010998\n",
      "2        obscene  0.053002    0.052734\n",
      "3         threat  0.003071    0.002695\n",
      "4         insult  0.049367    0.049350\n",
      "5  identity_hate  0.008828    0.008711\n"
     ]
    }
   ],
   "source": [
    "hint('loading data...')\n",
    "train = pd.read_csv('data/train.csv')\n",
    "train, valid = train_test_split(train, test_size=0.2)\n",
    "\n",
    "labels = [\n",
    "    'toxic', \n",
    "    'severe_toxic', \n",
    "    'obscene', \n",
    "    'threat', \n",
    "    'insult', \n",
    "    'identity_hate'\n",
    "]\n",
    "\n",
    "Ytr = train[labels].values\n",
    "Yva = valid[labels].values\n",
    "\n",
    "hint('Label distribution between training and validation set:')\n",
    "print(pd.DataFrame({\n",
    "    'label': labels,\n",
    "    'train': [np.mean(train[label]) for label in labels],\n",
    "    'validation' : [np.mean(valid[label]) for label in labels],\n",
    "}))"
   ]
  },
  {
   "cell_type": "markdown",
   "metadata": {
    "colab_type": "text",
    "id": "KA8OAJOJWAoe"
   },
   "source": [
    "# 2. Pre-processing the Input\n",
    "There are many ways to pre-process the raw strings into valid input for the model. Here we will do it by building a dictionary with all the comments from the training set, mapping the words to their index in the dictionary, and pad/crop the resulting sequences so that they have the same length."
   ]
  },
  {
   "cell_type": "markdown",
   "metadata": {
    "colab_type": "text",
    "id": "ZmEOAxm4wdNn"
   },
   "source": [
    "## 2.1 Cleaning Input"
   ]
  },
  {
   "cell_type": "code",
   "execution_count": 3,
   "metadata": {
    "colab": {
     "autoexec": {
      "startup": false,
      "wait_interval": 0
     },
     "base_uri": "https://localhost:8080/",
     "height": 34,
     "output_extras": [
      {
       "item_id": 1
      }
     ]
    },
    "colab_type": "code",
    "executionInfo": {
     "elapsed": 127,
     "status": "ok",
     "timestamp": 1518570683382,
     "user": {
      "displayName": "Chuan Li",
      "photoUrl": "//lh3.googleusercontent.com/-ry1V_A03qTg/AAAAAAAAAAI/AAAAAAAAAh4/Ea41Em8n49A/s50-c-k-no/photo.jpg",
      "userId": "106476928809257656982"
     },
     "user_tz": 480
    },
    "id": "Q5jQUn7MxSud",
    "outputId": "73b337ab-1654-422d-cad2-a82158bd8880"
   },
   "outputs": [
    {
     "name": "stdout",
     "output_type": "stream",
     "text": [
      "Done\n"
     ]
    }
   ],
   "source": [
    "tkzr = TweetTokenizer(preserve_case=False)\n",
    "eng_stopwords = (\n",
    "    'what', 'which', 'who', 'whom', \n",
    "    'this', 'that', 'these', 'those', \n",
    "    'am', 'is', 'are', 'was', 'were', \n",
    "    'be', 'been', 'being', \n",
    "    'have', 'has', 'had', 'having', \n",
    "    'do', 'does', 'did', 'doing', \n",
    "    'a', 'an', 'the', \n",
    "    'and', 'but', 'if', 'or', \n",
    "    'because', 'as', 'until', 'while', \n",
    "    'of', 'at', 'by', 'for', 'with', \n",
    "    'about', 'against', 'between', \n",
    "    'into', 'through', 'during', 'before', 'after', \n",
    "    'above', 'below', 'to', 'from', \n",
    "    'up', 'down', 'in', 'out', 'on', 'off', \n",
    "    'over', 'under', 'again', 'further', \n",
    "    'then', 'once', 'here', \n",
    "    'there', 'when', 'where', 'why', \n",
    "    'how', 'all', 'any', 'both', 'each', \n",
    "    'few', 'more', 'most', 'other', 'some', \n",
    "    'such', 'no', 'nor', 'not', 'only', \n",
    "    'own', 'same', 'so', 'than', 'too', 'very', \n",
    "    'can', 'will', 'just', 'don', 'should', 'now'\n",
    ")\n",
    "lmtzr = WordNetLemmatizer()\n",
    "appos = {\n",
    "    \"aren't\" : \"are not\",\n",
    "    \"can't\" : \"cannot\",\n",
    "    \"couldn't\" : \"could not\",\n",
    "    \"didn't\" : \"did not\",\n",
    "    \"doesn't\" : \"does not\",\n",
    "    \"don't\" : \"do not\",\n",
    "    \"hadn't\" : \"had not\",\n",
    "    \"hasn't\" : \"has not\",\n",
    "    \"haven't\" : \"have not\",\n",
    "    \"he'd\" : \"he would\",\n",
    "    \"he'll\" : \"he will\",\n",
    "    \"he's\" : \"he is\",\n",
    "    \"i'd\" : \"I would\",\n",
    "    \"i'd\" : \"I had\",\n",
    "    \"i'll\" : \"I will\",\n",
    "    \"i'm\" : \"I am\",\n",
    "    \"isn't\" : \"is not\",\n",
    "    \"it's\" : \"it is\",\n",
    "    \"it'll\":\"it will\",\n",
    "    \"i've\" : \"I have\",\n",
    "    \"let's\" : \"let us\",\n",
    "    \"mightn't\" : \"might not\",\n",
    "    \"mustn't\" : \"must not\",\n",
    "    \"shan't\" : \"shall not\",\n",
    "    \"she'd\" : \"she would\",\n",
    "    \"she'll\" : \"she will\",\n",
    "    \"she's\" : \"she is\",\n",
    "    \"shouldn't\" : \"should not\",\n",
    "    \"that's\" : \"that is\",\n",
    "    \"there's\" : \"there is\",\n",
    "    \"they'd\" : \"they would\",\n",
    "    \"they'll\" : \"they will\",\n",
    "    \"they're\" : \"they are\",\n",
    "    \"they've\" : \"they have\",\n",
    "    \"we'd\" : \"we would\",\n",
    "    \"we're\" : \"we are\",\n",
    "    \"weren't\" : \"were not\",\n",
    "    \"we've\" : \"we have\",\n",
    "    \"what'll\" : \"what will\",\n",
    "    \"what're\" : \"what are\",\n",
    "    \"what's\" : \"what is\",\n",
    "    \"what've\" : \"what have\",\n",
    "    \"where's\" : \"where is\",\n",
    "    \"who'd\" : \"who would\",\n",
    "    \"who'll\" : \"who will\",\n",
    "    \"who're\" : \"who are\",\n",
    "    \"who's\" : \"who is\",\n",
    "    \"who've\" : \"who have\",\n",
    "    \"won't\" : \"will not\",\n",
    "    \"wouldn't\" : \"would not\",\n",
    "    \"you'd\" : \"you would\",\n",
    "    \"you'll\" : \"you will\",\n",
    "    \"you're\" : \"you are\",\n",
    "    \"you've\" : \"you have\",\n",
    "    \"'re\": \" are\",\n",
    "    \"wasn't\": \"was not\",\n",
    "    \"we'll\":\" will\",\n",
    "    \"didn't\": \"did not\"\n",
    "}\n",
    "\n",
    "def preprocess(comment):\n",
    "  \n",
    "    # credit to the author of this post:\n",
    "    # https://www.kaggle.com/jagangupta/stop-the-s-toxic-comments-eda\n",
    "\n",
    "    # remove special format\n",
    "    comment = re.sub('\\n\\t', '', comment)\n",
    "\n",
    "    # remove IP addresses\n",
    "    comment = re.sub('\\d{1,3}\\.\\d{1,3}\\.\\d{1,3}\\.\\d{1,3}', ' specipaddress ', comment)\n",
    "\n",
    "    # remove username\n",
    "    comment = re.sub(\"\\[\\[User.*\\]\", ' specusername ', comment)\n",
    "    comment = re.sub(\"\\[\\[User.*\\|\", ' specusername ', comment)\n",
    "\n",
    "    # tokenization \n",
    "    tokens = tkzr.tokenize(comment)\n",
    "\n",
    "    # aphostophe replacement\n",
    "    tokens = [ appos[token] if token in appos else token for token in tokens]\n",
    "\n",
    "    # remove stopwords\n",
    "    tokens = [ token for token in tokens if not token in eng_stopwords ]\n",
    "\n",
    "    # stemming\n",
    "    tokens = [ lmtzr.lemmatize(token, 'v') for token in tokens]\n",
    "\n",
    "    return \" \".join(tokens)\n",
    "  \n",
    "\n",
    "hint('Cleaning train set...')\n",
    "Xtr = train['comment_text'].apply(lambda c: preprocess(c))\n",
    "hint('Cleaning test set...')\n",
    "Xva = valid['comment_text'].apply(lambda c: preprocess(c))\n",
    "hint('Done')"
   ]
  },
  {
   "cell_type": "markdown",
   "metadata": {
    "colab_type": "text",
    "id": "btLphIdFwmts"
   },
   "source": [
    "## 2.2 Transforming Comments to Sequences"
   ]
  },
  {
   "cell_type": "code",
   "execution_count": 4,
   "metadata": {
    "colab": {
     "autoexec": {
      "startup": false,
      "wait_interval": 0
     },
     "base_uri": "https://localhost:8080/",
     "height": 34,
     "output_extras": [
      {
       "item_id": 1
      }
     ]
    },
    "colab_type": "code",
    "executionInfo": {
     "elapsed": 144,
     "status": "ok",
     "timestamp": 1518570698059,
     "user": {
      "displayName": "Chuan Li",
      "photoUrl": "//lh3.googleusercontent.com/-ry1V_A03qTg/AAAAAAAAAAI/AAAAAAAAAh4/Ea41Em8n49A/s50-c-k-no/photo.jpg",
      "userId": "106476928809257656982"
     },
     "user_tz": 480
    },
    "id": "JmEQQZs-kHK2",
    "outputId": "073af561-39f5-4c18-acee-ab2794e9e3a6"
   },
   "outputs": [
    {
     "name": "stdout",
     "output_type": "stream",
     "text": [
      "Done\n"
     ]
    }
   ],
   "source": [
    "vocab_max = 100000\n",
    "\n",
    "hint('Fitting the tokenizer...')\n",
    "tokenizer = ktxt.Tokenizer(num_words=vocab_max)\n",
    "tokenizer.fit_on_texts(Xtr)\n",
    "\n",
    "hint('Tokenizing...')\n",
    "Xtr = tokenizer.texts_to_sequences(Xtr)\n",
    "Xva = tokenizer.texts_to_sequences(Xva)\n",
    "\n",
    "hint('padding the sequences...')\n",
    "max_comment_length = 200  # padded/cropped comment length\n",
    "Xtr = sequence.pad_sequences(Xtr, maxlen=max_comment_length)\n",
    "Xva = sequence.pad_sequences(Xva, maxlen=max_comment_length)\n",
    "\n",
    "hint('Done')"
   ]
  },
  {
   "cell_type": "markdown",
   "metadata": {
    "colab_type": "text",
    "id": "OWHeGxuz3Wfn"
   },
   "source": [
    "# 3. Training Model"
   ]
  },
  {
   "cell_type": "code",
   "execution_count": 5,
   "metadata": {},
   "outputs": [
    {
     "name": "stdout",
     "output_type": "stream",
     "text": [
      "Done\n"
     ]
    }
   ],
   "source": [
    "hint(\"Loading pre-embedding file...\")\n",
    "emb = pd.read_table(\n",
    "    'preembedding/glove.6B.300d.txt', \n",
    "    sep=\" \", index_col=0, header=None, quoting=csv.QUOTE_NONE\n",
    ")\n",
    "\n",
    "hint(\"Preparing embedding matrix...\")\n",
    "embedding_dimension = 300\n",
    "embedding_matrix = np.random.normal(\n",
    "    emb.mean(axis=0), \n",
    "    emb.std(axis=0), \n",
    "    (vocab_max, embedding_dimension)\n",
    ")\n",
    "hint(\"Constructing embedding matrix\")\n",
    "for word, i in tokenizer.word_index.items():\n",
    "    if i < vocab_max and word in emb.index:\n",
    "        embedding_matrix[i] = emb.loc[word].as_matrix()\n",
    "\n",
    "hint(\"Done\")\n",
    "# optional: free memory:\n",
    "emb = None"
   ]
  },
  {
   "cell_type": "code",
   "execution_count": 16,
   "metadata": {
    "colab": {
     "autoexec": {
      "startup": false,
      "wait_interval": 0
     },
     "base_uri": "https://localhost:8080/",
     "height": 374,
     "output_extras": [
      {
       "item_id": 1
      }
     ]
    },
    "colab_type": "code",
    "executionInfo": {
     "elapsed": 389,
     "status": "ok",
     "timestamp": 1518570698678,
     "user": {
      "displayName": "Chuan Li",
      "photoUrl": "//lh3.googleusercontent.com/-ry1V_A03qTg/AAAAAAAAAAI/AAAAAAAAAh4/Ea41Em8n49A/s50-c-k-no/photo.jpg",
      "userId": "106476928809257656982"
     },
     "user_tz": 480
    },
    "id": "GoawhjBA3nyc",
    "outputId": "e814cec6-a98e-4cce-da53-d2579963c70f"
   },
   "outputs": [],
   "source": [
    "model = None\n",
    "# model = Sequential()\n",
    "# model.add(Embedding(\n",
    "#     vocab_max, \n",
    "#     embedding_dimension, \n",
    "#     weights=[embedding_matrix],\n",
    "#     input_length=max_comment_length\n",
    "# ))\n",
    "# model.add(SpatialDropout1D(0.5))\n",
    "# model.add(Conv1D(filters=256, kernel_size=3, padding='same', activation='relu'))\n",
    "# model.add(MaxPooling1D(pool_size=2))\n",
    "# model.add(SpatialDropout1D(0.2))\n",
    "# model.add(Bidirectional(GRU(units=64, return_sequences=True)))\n",
    "# model.add(GlobalMaxPooling1D())\n",
    "# #model.add(Dense(64, activation='relu'))\n",
    "# model.add(Dense(len(labels), activation='sigmoid'))\n",
    "# model.compile(\n",
    "#     optimizer='adam', \n",
    "#     loss='binary_crossentropy', \n",
    "#     metrics=['accuracy']\n",
    "# )\n",
    "# model.summary()\n",
    "\n",
    "x = None\n",
    "sequence_input = Input(shape=(max_comment_length, ))\n",
    "x = Embedding(vocab_max, embedding_dimension, weights=[embedding_matrix])(sequence_input)\n",
    "x = SpatialDropout1D(0.5)(x)\n",
    "x = Conv1D(filters=256, kernel_size=3, padding='same', activation='relu')(x)\n",
    "x = MaxPooling1D(pool_size=2)(x)\n",
    "x = Bidirectional(GRU(64, return_sequences=True,dropout=0.1,recurrent_dropout=0.1))(x)\n",
    "avg_pool = GlobalAveragePooling1D()(x)\n",
    "max_pool = GlobalMaxPooling1D()(x)\n",
    "x = concatenate([avg_pool, max_pool])\n",
    "preds = Dense(6, activation=\"sigmoid\")(x)\n",
    "model = Model(sequence_input, preds)\n",
    "model.compile(loss='binary_crossentropy',optimizer='adam',metrics=['accuracy'])"
   ]
  },
  {
   "cell_type": "markdown",
   "metadata": {
    "colab_type": "text",
    "id": "1S6kDCqDFGUN"
   },
   "source": [
    "Now training the model."
   ]
  },
  {
   "cell_type": "code",
   "execution_count": 17,
   "metadata": {
    "colab": {
     "autoexec": {
      "startup": false,
      "wait_interval": 0
     },
     "base_uri": "https://localhost:8080/",
     "height": 122,
     "output_extras": [
      {
       "item_id": 373
      },
      {
       "item_id": 1155
      },
      {
       "item_id": 1418
      },
      {
       "item_id": 2339
      },
      {
       "item_id": 2340
      }
     ]
    },
    "colab_type": "code",
    "executionInfo": {
     "elapsed": 630277,
     "status": "ok",
     "timestamp": 1518571329571,
     "user": {
      "displayName": "Chuan Li",
      "photoUrl": "//lh3.googleusercontent.com/-ry1V_A03qTg/AAAAAAAAAAI/AAAAAAAAAh4/Ea41Em8n49A/s50-c-k-no/photo.jpg",
      "userId": "106476928809257656982"
     },
     "user_tz": 480
    },
    "id": "QVU9nuDzFtlf",
    "outputId": "e0ea2b97-fe62-42bf-a1b2-46c7d5f08532"
   },
   "outputs": [
    {
     "name": "stdout",
     "output_type": "stream",
     "text": [
      "Train on 127656 samples, validate on 31915 samples\n",
      "Epoch 1/4\n",
      "127656/127656 [==============================] - 376s 3ms/step - loss: 0.1483 - acc: 0.9790 - val_loss: 0.0453 - val_acc: 0.9825\n",
      "Epoch 2/4\n",
      "127656/127656 [==============================] - 372s 3ms/step - loss: 0.1110 - acc: 0.9831 - val_loss: 0.0434 - val_acc: 0.9830\n",
      "Epoch 3/4\n",
      "127656/127656 [==============================] - 373s 3ms/step - loss: 0.0989 - acc: 0.9845 - val_loss: 0.0430 - val_acc: 0.9835\n",
      "Epoch 4/4\n",
      "127656/127656 [==============================] - 375s 3ms/step - loss: 0.0905 - acc: 0.9856 - val_loss: 0.0430 - val_acc: 0.9837\n"
     ]
    }
   ],
   "source": [
    "epochs = 4\n",
    "batch_size = 64\n",
    "\n",
    "def get_class_weight(x):\n",
    "    k = 100\n",
    "    return 3.32*np.log(k/x + 1)\n",
    "    \n",
    "\n",
    "history = model.fit(\n",
    "    Xtr, Ytr, \n",
    "    epochs=epochs, \n",
    "    batch_size=batch_size,\n",
    "    validation_data=(Xva, Yva),\n",
    "    class_weight={\n",
    "        0: get_class_weight(98),\n",
    "        1: get_class_weight(10),\n",
    "        2: get_class_weight(53),\n",
    "        3: get_class_weight(2),\n",
    "        4: get_class_weight(49),\n",
    "        5: get_class_weight(8),\n",
    "    }\n",
    ")"
   ]
  },
  {
   "cell_type": "markdown",
   "metadata": {
    "colab_type": "text",
    "id": "nAFiq9QuFI7R"
   },
   "source": [
    "Making prediction on the validation set."
   ]
  },
  {
   "cell_type": "code",
   "execution_count": 18,
   "metadata": {
    "colab": {
     "autoexec": {
      "startup": false,
      "wait_interval": 0
     },
     "base_uri": "https://localhost:8080/",
     "height": 34,
     "output_extras": [
      {
       "item_id": 1
      }
     ]
    },
    "colab_type": "code",
    "executionInfo": {
     "elapsed": 121,
     "status": "ok",
     "timestamp": 1518571356080,
     "user": {
      "displayName": "Chuan Li",
      "photoUrl": "//lh3.googleusercontent.com/-ry1V_A03qTg/AAAAAAAAAAI/AAAAAAAAAh4/Ea41Em8n49A/s50-c-k-no/photo.jpg",
      "userId": "106476928809257656982"
     },
     "user_tz": 480
    },
    "id": "hgiIMLjZE3Rr",
    "outputId": "f00c0add-a7ab-43f7-b75d-c47a54e12890"
   },
   "outputs": [
    {
     "name": "stdout",
     "output_type": "stream",
     "text": [
      "Done\n"
     ]
    }
   ],
   "source": [
    "hint(\"Making prediction...\")\n",
    "Yva_ = model.predict(Xva)\n",
    "hint(\"Done\")"
   ]
  },
  {
   "cell_type": "markdown",
   "metadata": {
    "colab_type": "text",
    "id": "RfRNkLv7v04I"
   },
   "source": [
    "# 4. Result Analysis\n",
    "## 4.1 Global Accuracy"
   ]
  },
  {
   "cell_type": "code",
   "execution_count": 19,
   "metadata": {
    "colab": {
     "autoexec": {
      "startup": false,
      "wait_interval": 0
     },
     "base_uri": "https://localhost:8080/",
     "height": 255,
     "output_extras": [
      {
       "item_id": 1
      }
     ]
    },
    "colab_type": "code",
    "executionInfo": {
     "elapsed": 275,
     "status": "ok",
     "timestamp": 1518571356419,
     "user": {
      "displayName": "Chuan Li",
      "photoUrl": "//lh3.googleusercontent.com/-ry1V_A03qTg/AAAAAAAAAAI/AAAAAAAAAh4/Ea41Em8n49A/s50-c-k-no/photo.jpg",
      "userId": "106476928809257656982"
     },
     "user_tz": 480
    },
    "id": "vakvDUO31-oo",
    "outputId": "5b7acf10-a987-41f7-801c-0f291245b687"
   },
   "outputs": [
    {
     "name": "stdout",
     "output_type": "stream",
     "text": [
      "validation set sample count: 31915\n",
      "\n",
      "accuracy for threshold 0.1: 97.39%\n",
      "accuracy for threshold 0.2: 97.99%\n",
      "accuracy for threshold 0.3: 98.22%\n",
      "accuracy for threshold 0.4: 98.32%\n",
      "accuracy for threshold 0.5: 98.37%\n",
      "accuracy for threshold 0.6: 98.34%\n",
      "accuracy for threshold 0.7: 98.27%\n",
      "accuracy for threshold 0.8: 98.12%\n",
      "accuracy for threshold 0.9: 97.85%\n",
      "\n",
      "best threshold: 0.5\n",
      "best accuracy: 98.37%\n"
     ]
    }
   ],
   "source": [
    "total_sample = Xva.shape[0]\n",
    "print(\"validation set sample count: %d\\n\" % total_sample)\n",
    "prediction_total = total_sample*Yva.shape[1]\n",
    "best_t = None\n",
    "best_accuracy = 0\n",
    "for t in [i*0.1 for i in range(1, 10)]:\n",
    "    accuracy = np.sum(Yva == (Yva_ >= t))/prediction_total\n",
    "    if accuracy > best_accuracy: \n",
    "        best_t = t\n",
    "        best_accuracy = accuracy\n",
    "    print(\"accuracy for threshold %.1f: %.2f%%\" % (t, accuracy*100))\n",
    "Yva_T = Yva_ >= best_t\n",
    "correct = Yva == Yva_T\n",
    "print(\"\\nbest threshold: %.1f\" % best_t)\n",
    "print(\"best accuracy: %.2f%%\" % (best_accuracy*100))"
   ]
  },
  {
   "cell_type": "markdown",
   "metadata": {
    "colab_type": "text",
    "id": "YSptfDNc58dZ"
   },
   "source": [
    "## 4.2 Accuracy by Classes"
   ]
  },
  {
   "cell_type": "code",
   "execution_count": 20,
   "metadata": {
    "colab": {
     "autoexec": {
      "startup": false,
      "wait_interval": 0
     }
    },
    "colab_type": "code",
    "id": "gLRH9AayowXA"
   },
   "outputs": [],
   "source": [
    "overview = pd.DataFrame(index=[\n",
    "    'label‰ of all',\n",
    "    'total wrong', \n",
    "    'P->N', \n",
    "    'N->P', \n",
    "    'P->N %', \n",
    "    'N->P %',\n",
    "    'avg len',\n",
    "])\n",
    "\n",
    "def analyze_class(i):\n",
    "    wrong = valid[correct[:, i] != 1]\n",
    "    total_class_error = len(wrong)\n",
    "    print(\"%d predicted incorrectly (%.2f%% of all samples)\" % (\n",
    "        total_class_error, \n",
    "        100*total_class_error/total_sample\n",
    "    ))\n",
    "        \n",
    "    wrong_seqs = Xva[correct[:, i] != 1]\n",
    "    lens = [ len(seq[seq != 0]) for seq in wrong_seqs]\n",
    "    avg_len = np.mean(lens)\n",
    "    print(\"Falsely predicted sequences have an average length of %d\" % avg_len)\n",
    "\n",
    "    PpN = valid[(Yva[:, i] == 1) & (Yva_T[:, i] == 0)]\n",
    "    PpN_count = len(PpN)\n",
    "    print(\"\\n%d (%.2f%%) positive label were predicted to be negative\" % (\n",
    "        PpN_count, \n",
    "        100*PpN_count/total_class_error \n",
    "    ))\n",
    "    if PpN_count > 4:\n",
    "        print(\"Samples:\")\n",
    "        for sample in PpN.sample(5)['comment_text']:\n",
    "            display(sample)\n",
    "  \n",
    "    NpP = valid[(Yva[:, i] == 0) & (Yva_T[:, i] == 1)]\n",
    "    NpP_count = len(NpP)\n",
    "    print(\"\\n%d (%.2f%%) negative label were predicted to be positive\" % (\n",
    "        NpP_count, \n",
    "        100*NpP_count/total_class_error \n",
    "    ))\n",
    "    if NpP_count > 4:\n",
    "        print(\"Samples:\")\n",
    "        for sample in NpP.sample(5)['comment_text']:\n",
    "            display(sample)\n",
    "  \n",
    "    overview[labels[i]] = [\n",
    "        np.mean(Yva[:, i]*1000),\n",
    "        total_class_error, \n",
    "        PpN_count,  \n",
    "        NpP_count,\n",
    "        100*PpN_count/total_class_error,\n",
    "        100*NpP_count/total_class_error,\n",
    "        avg_len\n",
    "    ]\n",
    "  \n",
    "    print('\\n')\n",
    "  "
   ]
  },
  {
   "cell_type": "markdown",
   "metadata": {
    "colab_type": "text",
    "id": "SSY9H7knpE5U"
   },
   "source": [
    "### 4.2.1 Toxic"
   ]
  },
  {
   "cell_type": "code",
   "execution_count": 21,
   "metadata": {
    "colab": {
     "autoexec": {
      "startup": false,
      "wait_interval": 0
     },
     "base_uri": "https://localhost:8080/",
     "height": 360,
     "output_extras": [
      {
       "item_id": 1
      },
      {
       "item_id": 2
      },
      {
       "item_id": 3
      },
      {
       "item_id": 4
      },
      {
       "item_id": 5
      },
      {
       "item_id": 6
      },
      {
       "item_id": 7
      },
      {
       "item_id": 8
      },
      {
       "item_id": 9
      },
      {
       "item_id": 10
      },
      {
       "item_id": 11
      },
      {
       "item_id": 12
      },
      {
       "item_id": 13
      }
     ]
    },
    "colab_type": "code",
    "executionInfo": {
     "elapsed": 251,
     "status": "ok",
     "timestamp": 1518573461778,
     "user": {
      "displayName": "Chuan Li",
      "photoUrl": "//lh3.googleusercontent.com/-ry1V_A03qTg/AAAAAAAAAAI/AAAAAAAAAh4/Ea41Em8n49A/s50-c-k-no/photo.jpg",
      "userId": "106476928809257656982"
     },
     "user_tz": 480
    },
    "id": "NNGw690DpLMy",
    "outputId": "18e4b55e-63d1-42b2-9c93-4b75a8d5ad39"
   },
   "outputs": [
    {
     "name": "stdout",
     "output_type": "stream",
     "text": [
      "1148 predicted incorrectly (3.60% of all samples)\n",
      "Falsely predicted sequences have an average length of 35\n",
      "\n",
      "749 (65.24%) positive label were predicted to be negative\n",
      "Samples:\n"
     ]
    },
    {
     "data": {
      "text/plain": [
       "\"Don't insult my intelligence, Dougweller. I tell you it's easier to dispute whether they were canvassed so now you start doing so and expect me to play along? No. You know they were canvassed, I know, Mzilikazi does and, unless they're stupid, so do Johnbod and Haploidavey. If I had known you were going to debase yourself with petty, juvenile tactics like this, I never would have put the idea into your head. (  )\""
      ]
     },
     "metadata": {},
     "output_type": "display_data"
    },
    {
     "data": {
      "text/plain": [
       "'btw why the heck did you post so much info on your user page? old men like michael jackson can come to your apt and rape you xD'"
      ]
     },
     "metadata": {},
     "output_type": "display_data"
    },
    {
     "data": {
      "text/plain": [
       "\"I'M GETTING ANGRY AT YOU!!!!!!!!!\\nYOU ARE GETTING CLOSE TO BE BLOCKED FROM EDITING!!!!\""
      ]
     },
     "metadata": {},
     "output_type": "display_data"
    },
    {
     "data": {
      "text/plain": [
       "'Excuse me ..who in the hell is that? ..and whatever man go edit and bother someone else.\\n  8:50, 27 April 2008 (UTC)'"
      ]
     },
     "metadata": {},
     "output_type": "display_data"
    },
    {
     "data": {
      "text/plain": [
       "'\"\\nYou are by far the most unhelpful, ungracious administrator I have ever had to deal with. You\\'re incompetence is displayed in every encounter we have. Oh, and I\\'m quite familar with WP:NPA, which you resort to citing whenever you don\\'t get your way. For other administrators who wish to be helpful, my last username was the Arabic version of Warraq. Warraq means \"\"scribe.\"\"  \\n\"'"
      ]
     },
     "metadata": {},
     "output_type": "display_data"
    },
    {
     "name": "stdout",
     "output_type": "stream",
     "text": [
      "\n",
      "399 (34.76%) negative label were predicted to be positive\n",
      "Samples:\n"
     ]
    },
    {
     "data": {
      "text/plain": [
       "'\"LOL, that ho is FAT!  — Preceding unsigned comment added by 50.113.177.10   \\n\\n\"'"
      ]
     },
     "metadata": {},
     "output_type": "display_data"
    },
    {
     "data": {
      "text/plain": [
       "\"Unblocked for the last time\\nOk, now don't fuck up. I mean that in the best possible way.  Good luck and good night.\""
      ]
     },
     "metadata": {},
     "output_type": "display_data"
    },
    {
     "data": {
      "text/plain": [
       "'\"\\n\\n re: UEFA Euro 2008 and talk:UEFA Euro 2008 \\n\\nHas it occurred to you that you\\'re a massive dick?    .Alpaugh \"'"
      ]
     },
     "metadata": {},
     "output_type": "display_data"
    },
    {
     "data": {
      "text/plain": [
       "'\"\\n\\n and Then i was Walking down the street in India and It Was Gandhi \\n\\nand He Was All \\'i don\\'t eat the Smoked Meats but Toddt he\\'s So Gay\"\"\"'"
      ]
     },
     "metadata": {},
     "output_type": "display_data"
    },
    {
     "data": {
      "text/plain": [
       "'\"\\n\\nThe inclusion below....\\n\\n Controversial Remarks Alleged Calling Facebook Users \"\"Dumb F**ks\"\" \\n\\nQuote: To avoid being blocked, instead of reverting please consider using the article\\'s talk page to work toward making a version that represents consensus among editors. \\n\\n!!!!THAT IS WHAT I AM DOING!!!!\\n\\nREFRAIN FROM DELETING THE TALK PAGE CONTRIBUTION WITHOUT PROVIDING A VALID REASON OR BETTER TIPS FOR IMPROVEMENT. AFTER ALL THIS IS ONLY THE TALK PAGE\\n\\nsources for the below mentioned contribution:\\n\\n http://www.forbes.com/sites/andygreenberg/2012/02/01/is-zuckerbergs-the-hacker-way-letter-facebooks-dont-be-evil-and-will-it-live-up-to-it/\\n http://gawker.com/5636765/facebook-ceo-admits-to-calling-users-dumb-fucks\\n http://au.businessinsider.com/well-these-new-zuckerberg-ims-wont-help-facebooks-privacy-problems-2010-5\\n http://www.theregister.co.uk/2010/05/14/facebook_trust_dumb/\\n http://www.theweek.co.uk/technology/14625/are-users-%E2%80%98dumb-fucks%E2%80%99-trusting-data-facebook\\n http://tdh.me/zuckerberg-called-early-facebook-users-dumb-fucks-so-what/\\n http://anphicle.com/en/they-trust-me-dumb-fucks-facebook-ceo-mark-zuckerberg/\\n http://www.tomsguide.com/us/Facebook-Mark-Zuckerberg-Social-Networking-privacy-security,news-6794.html\\n http://au.businessinsider.com/embarrassing-and-damaging-zuckerberg-ims-confirmed-by-zuckerberg-the-new-yorker-2010-9\\n\\nOther sections on Wikipedia where Controversial Remarks is valid: \\n\\n Bryant Gumbel (section Controversial remarks)\\n Mel Gibson (section Controversial remarks)\\n Sherrod Brown (section Controversial remarks)\\n Kent Hovind (section Controversial remarks)\\n Venkaiah Naidu (section Controversial Remarks)\\n Greg Gutfeld (section Controversial remarks)\\n Lawrence Cannon (section Controversial remarks)\\n Daniel Bernard (diplomat) (section Controversial remark)\\n James R. Flynn (section Controversial remarks)\\n\\nand many many more\\n\\nstart.\\n\\nWhile at Harvard College 19-year-old Facebook CEO Mark Zuckerberg allegedly used login data from his social network to hack into fellow students email accounts; that evidence also included instant message transcripts where he calls facebook users \"\"dumb fucks\"\". The alleged following exchange is between a 19-year-old Mark Zuckerberg and a friend shortly after Mark launched The Facebook in his dorm room:\\n \\nZuck: Yeah so if you ever need info about anyone at Harvard\\n\\nZuck: Just ask.\\n\\nZuck: I have over 4,000 emails, pictures, addresses, SNS\\n\\n[Redacted Friend\\'s Name]: What? How\\'d you manage that one?\\n\\nZuck: People just submitted it.\\n\\nZuck: I don\\'t know why.\\n\\nZuck: They \"\"trust me\"\"\\n\\nZuck: Dumb fucks.\\n\\nIn another instant message (IM)\\n\\nFRIEND: so have you decided what you are going to do about the websites?\\n\\nZUCK: yea i’m going to fuck them\\n\\nZUCK: probably in the year\\n\\nZUCK: *ear\\n\\nend.\\n\\n\"'"
      ]
     },
     "metadata": {},
     "output_type": "display_data"
    },
    {
     "name": "stdout",
     "output_type": "stream",
     "text": [
      "\n",
      "\n"
     ]
    }
   ],
   "source": [
    "analyze_class(0)"
   ]
  },
  {
   "cell_type": "markdown",
   "metadata": {
    "colab_type": "text",
    "id": "3cxSNKFepEg1"
   },
   "source": [
    "### 4.2.2 Severe Toxic"
   ]
  },
  {
   "cell_type": "code",
   "execution_count": 22,
   "metadata": {
    "colab": {
     "autoexec": {
      "startup": false,
      "wait_interval": 0
     },
     "base_uri": "https://localhost:8080/",
     "height": 360,
     "output_extras": [
      {
       "item_id": 1
      },
      {
       "item_id": 2
      },
      {
       "item_id": 3
      },
      {
       "item_id": 4
      },
      {
       "item_id": 5
      },
      {
       "item_id": 6
      },
      {
       "item_id": 7
      },
      {
       "item_id": 8
      },
      {
       "item_id": 9
      },
      {
       "item_id": 10
      },
      {
       "item_id": 11
      },
      {
       "item_id": 12
      },
      {
       "item_id": 13
      }
     ]
    },
    "colab_type": "code",
    "executionInfo": {
     "elapsed": 254,
     "status": "ok",
     "timestamp": 1518573463811,
     "user": {
      "displayName": "Chuan Li",
      "photoUrl": "//lh3.googleusercontent.com/-ry1V_A03qTg/AAAAAAAAAAI/AAAAAAAAAh4/Ea41Em8n49A/s50-c-k-no/photo.jpg",
      "userId": "106476928809257656982"
     },
     "user_tz": 480
    },
    "id": "1cCGMbZKpV1H",
    "outputId": "428d69ea-64a9-4f28-e09c-f9ddd6d7516c"
   },
   "outputs": [
    {
     "name": "stdout",
     "output_type": "stream",
     "text": [
      "341 predicted incorrectly (1.07% of all samples)\n",
      "Falsely predicted sequences have an average length of 27\n",
      "\n",
      "273 (80.06%) positive label were predicted to be negative\n",
      "Samples:\n"
     ]
    },
    {
     "data": {
      "text/plain": [
       "'{{|unblock|Lick my hairy nuts you negroes and jews.}}'"
      ]
     },
     "metadata": {},
     "output_type": "display_data"
    },
    {
     "data": {
      "text/plain": [
       "'Toys/Pram eh ? Being persecuted by the big bad English again, awww diddums. Grow up you big fucking baby.'"
      ]
     },
     "metadata": {},
     "output_type": "display_data"
    },
    {
     "data": {
      "text/plain": [
       "'FUCK YOUR MOTHER \\n\\nFUCK OFF'"
      ]
     },
     "metadata": {},
     "output_type": "display_data"
    },
    {
     "data": {
      "text/plain": [
       "'Hi \\n\\nO FUCK YOU U MATHRFUKER BITCH IDIOOOOT NO BAN ME FROM EDIT I TELL TRUTH'"
      ]
     },
     "metadata": {},
     "output_type": "display_data"
    },
    {
     "data": {
      "text/plain": [
       "'DEATH TO ARABS! FREE THE JEWISH HOMELAND OF JUDAH AND SHOMRON FRÓM ILLEGAL ÁRAB OCCUPATION! END ARAB COLONIALISM AND ARAB IMPERIALISM! \\n\\nDEATH TO ARABS! FREE THE JEWISH HOMELAND OF JUDAH AND SHOMRON FRÓM ILLEGAL ÁRAB OCCUPATION! END ARAB COLONIALISM AND ARAB IMPERIALISM!'"
      ]
     },
     "metadata": {},
     "output_type": "display_data"
    },
    {
     "name": "stdout",
     "output_type": "stream",
     "text": [
      "\n",
      "68 (19.94%) negative label were predicted to be positive\n",
      "Samples:\n"
     ]
    },
    {
     "data": {
      "text/plain": [
       "'Go fuck yourself, you piece of shit.'"
      ]
     },
     "metadata": {},
     "output_type": "display_data"
    },
    {
     "data": {
      "text/plain": [
       "'Diana is a fucking bitch nigger piece of shit'"
      ]
     },
     "metadata": {},
     "output_type": "display_data"
    },
    {
     "data": {
      "text/plain": [
       "'you studid cock sucker u stop callin me ok its a frank Garrett eatin the worms crawl outa your moms pussy you fucking retardo hit I retardo'"
      ]
     },
     "metadata": {},
     "output_type": "display_data"
    },
    {
     "data": {
      "text/plain": [
       "\"Homosexuality?\\nYou french-fried faggot, I am going to cut your balls off and serve them in a platter of mushrooms before shoving your dick up your ass and mutilating your boyfriend's balls in front of you, then I will kill you both!\""
      ]
     },
     "metadata": {},
     "output_type": "display_data"
    },
    {
     "data": {
      "text/plain": [
       "\"Wikipedia's downfall is that it is free.\\nSO FUCK YOU FOR SUPRESSING THAT YOU FACISTS\\nSO FUCK YOU FOR SUPRESSING THAT YOU FACISTS\\nSO FUCK YOU FOR SUPRESSING THAT YOU FACISTS\\nSO FUCK YOU FOR SUPRESSING THAT YOU FACISTS\\nSO FUCK YOU FOR SUPRESSING THAT YOU FACISTS\\nSO FUCK YOU FOR SUPRESSING THAT YOU FACISTS\\nSO FUCK YOU FOR SUPRESSING THAT YOU FACISTS\\nSO FUCK YOU FOR SUPRESSING THAT YOU FACISTS\\nSO FUCK YOU FOR SUPRESSING THAT YOU FACISTS\\nSO FUCK YOU FOR SUPRESSING THAT YOU FACISTS\\nSO FUCK YOU FOR SUPRESSING THAT YOU FACISTS\\nSO FUCK YOU FOR SUPRESSING THAT YOU FACISTS\\nSO FUCK YOU FOR SUPRESSING THAT YOU FACISTS\\nSO FUCK YOU FOR SUPRESSING THAT YOU FACISTS\\nSO FUCK YOU FOR SUPRESSING THAT YOU FACISTS\\nSO FUCK YOU FOR SUPRESSING THAT YOU FACISTS\\nSO FUCK YOU FOR SUPRESSING THAT YOU FACISTS\""
      ]
     },
     "metadata": {},
     "output_type": "display_data"
    },
    {
     "name": "stdout",
     "output_type": "stream",
     "text": [
      "\n",
      "\n"
     ]
    }
   ],
   "source": [
    "analyze_class(1)"
   ]
  },
  {
   "cell_type": "markdown",
   "metadata": {
    "colab_type": "text",
    "id": "s0_zIe7m1A79"
   },
   "source": [
    "### 4.2.3 Obscene"
   ]
  },
  {
   "cell_type": "code",
   "execution_count": 23,
   "metadata": {
    "colab": {
     "autoexec": {
      "startup": false,
      "wait_interval": 0
     },
     "base_uri": "https://localhost:8080/",
     "height": 360,
     "output_extras": [
      {
       "item_id": 1
      },
      {
       "item_id": 2
      },
      {
       "item_id": 3
      },
      {
       "item_id": 4
      },
      {
       "item_id": 5
      },
      {
       "item_id": 6
      },
      {
       "item_id": 7
      },
      {
       "item_id": 8
      },
      {
       "item_id": 9
      },
      {
       "item_id": 10
      },
      {
       "item_id": 11
      },
      {
       "item_id": 12
      },
      {
       "item_id": 13
      }
     ]
    },
    "colab_type": "code",
    "executionInfo": {
     "elapsed": 258,
     "status": "ok",
     "timestamp": 1518573465290,
     "user": {
      "displayName": "Chuan Li",
      "photoUrl": "//lh3.googleusercontent.com/-ry1V_A03qTg/AAAAAAAAAAI/AAAAAAAAAh4/Ea41Em8n49A/s50-c-k-no/photo.jpg",
      "userId": "106476928809257656982"
     },
     "user_tz": 480
    },
    "id": "Qt9vOoNK1EFl",
    "outputId": "cfeec26f-71ad-4668-840e-c183a862ba74"
   },
   "outputs": [
    {
     "name": "stdout",
     "output_type": "stream",
     "text": [
      "556 predicted incorrectly (1.74% of all samples)\n",
      "Falsely predicted sequences have an average length of 37\n",
      "\n",
      "304 (54.68%) positive label were predicted to be negative\n",
      "Samples:\n"
     ]
    },
    {
     "data": {
      "text/plain": [
       "'go to  die \\n\\nson of  bich'"
      ]
     },
     "metadata": {},
     "output_type": "display_data"
    },
    {
     "data": {
      "text/plain": [
       "\"All of my edits are good.  Cunts like you who revert good edits because you're too stupid to understand how to write well , and then revert other edits just because you've decided to bear a playground grudge, are the problem.  Maybe one day you'll realise the damage you did to a noble project.  201.215.187.159\""
      ]
     },
     "metadata": {},
     "output_type": "display_data"
    },
    {
     "data": {
      "text/plain": [
       "'\"\\n\\n Censorship \\n\\nWas Final Fantasy VII censored at all? I mean, the content wasn\\'t as strong as, say, Final Fantasy VIII\\'s, but I would imagine something was censored. Plus, it doesn\\'t say anything about censorship on this page. Could someone please answer to this? \\nNot that I recall. It certainly wasn\\'t censored as much as the older games were.  \\nAs I recall, some language was censored, some wasn\\'t.  \\nThe word \"\"bastard\"\" appeared on various occasions, but \"\"fuck\"\" and \"\"shit\"\" were censored.  \\n< recet indent\\nSome words were censored, some were not, which ones seem arbitrary.\\nOnly instance I could find of \"\"Fuck\"\" uncensored:\\nComputer: Cid! We have an emergency situation! A mechanic is still in the engine section of the rocket!\\nCid: What!? Who is the little fuck!?\\nComputer: I don\\'t know. Activating the intercom in the engine section.\\nCid: Hey goddammit!! Who the #*$$#&\\'s still in there?\\nEarliest instance of \"\"Shit\"\"\\nShinra Manager: I\\'m not give in to violence…and I\\'m not giving you my seat either!\\nTifa: Barret!!\\nBarret: #^*$!! You lucky #$#*!\\nCloud: So, what are we gonna do now?\\nBarret: Shit! The hell you so calm about? You bustin\\' up my rhythm…\\nIn total, \"\"Fuck\"\" is said uncensored once, \"\"Shit\"\" is said uncensored 12 times, \"\"ass\"\" is said 15 times (sometimes occuring as Jackass), \"\"Damn\"\" is said 68 times, and I couldn\\'t find any occurances of \"\"Bastard\"\".  Censored words appear approx. 33 times.  \\nMy version must be different.  The \"\"fuck\"\" is censored, and the comment with Barret the last editor quoted, the first word was uncensored(though it had an apostrophe stuck in the middle, making it \"\"shi\\'t\"\".  I noted a lot of uncensored \"\"ass\"\" and \"\"shit\"\" though, and after playing FFX and FFXII for so long, going back and playing FFVII, I was a little surprised by the language.  In fact, it\\'s the only Fantasy RPG I\\'ve ever played with uncensored profanity.  But yes, it was at least partially censored. \\n Nevertheless, unless we get concrete primary sourcing from an interview or whatever, we can\\'t include this in the article. — er \\nWell, the box says it\\'s rated teen for mild language and violence...  But I\\'m not sure of any primary sources that would even deal with this particular issue.. \\nBeyond a mention that there is some uncensored language I really don\\'t think this type of info belongs in an encyclopedia.  And even the slight mention is iffy to me.   \\nWell, it\\'s the first Final Fantasy to come to America with any uncensored language.  But then again, all the Final Fantasies to come to America in that period of time had to go through Nintendo of America\\'s censorship guidelines of the time. \\nIt might be worth noting (at least in the discussion) that the computer version was far more censored than the PSX version. Almost every instance of \"\"shit\"\" was removed, consistently with #^$& or similar characters. Also, certain important lines had their translations changed. \"\"Back then, you could get by with only skinned knees\"\", for example, was changed to something likely more grammatically correct, but weird to a long time player of the PSX version.  \\n\\nI have the PC version of FF7 and I recall a TON of Cid lines where there was censorship as well as ones form Barret. They were all situations of anger though so it didn\\'t impact the storyline much.\\n\\nActually there was some sexual censorship if I recall. \"\"Slightly stretched underwear\"\" was changed to \"\"Therapeutic underwear.\"\" Not sure why it\\'s better, but I\\'m pretty sure they did it because they thought \"\"slightly stretched\"\" was sexually inappropriate. (The item is found in Tifa\\'s dresser drawer during the nibelhiem flashback sequence.)\\n\\nMentioning Midgar\\'s future\\nDuring the epilogue that follows, the ruins of Midgar are shown five hundred years later. While the landscape had once been desolate due to Shinra\\'s operations, it is now a land of lush greenery.\\n\\nThis sentence should be removed as it is trivial, unnecessary, and uhhh too minor for mention, and there is no explanation for this scene.  NEWL'"
      ]
     },
     "metadata": {},
     "output_type": "display_data"
    },
    {
     "data": {
      "text/plain": [
       "'\"=Reliable sources===\\nCheating:\\n\"\"Barry Bonds:Cheater\"\" from CBS, yea I kinda think that is reliable. \\n\"\"Dear Barry Bonds, You are either an outright cheater or very stupid\"\" from the USA Today \\n\"\"Yes, Barry Bonds is a cheater. He is a cheater of the worst sort\"\" \\nLying:\\n\"\"It\\'s clear, Barry Bonds\\' a liar\"\" New York Daily News, another pretty freakin\\' reliable source. \\n\"\"Barry Lamar Bonds is a bad man\"\" Baseball Digest \\n\"\"but Bonds is a liar, a cheater, a whiner and a bad influence on America\\'s youth\"\"  Mark Barnes\\n\\n==\"'"
      ]
     },
     "metadata": {},
     "output_type": "display_data"
    },
    {
     "data": {
      "text/plain": [
       "\"Don't piss mme off!\\n\\n'I MEEN IT YOU DLEATED BOLTH OF MY ARTICLES THE AMERICAN DAD VS FAMILY GUY AND THE BUBBLE STRUGGLE 2 ARTICLE I'M GOING TO SEW YOU FOR $10000000000000000000000000000000000000000000 I WISH I COULD YOU SON OF A ***** ******* *******!!!!!!!!!!!!!!!!!!!!!!!!!!!!!!!!!!!!!!!!!!!!!!!!!!!!!!!!!!!!!!!!!!!!!!!!!!!!!!!!!!!!! ( )\""
      ]
     },
     "metadata": {},
     "output_type": "display_data"
    },
    {
     "name": "stdout",
     "output_type": "stream",
     "text": [
      "\n",
      "252 (45.32%) negative label were predicted to be positive\n",
      "Samples:\n"
     ]
    },
    {
     "data": {
      "text/plain": [
       "\"Let the vandals do what they want! \\n\\nYou people suck! It's true about Wellington college being established in ∞!! common what is the point of having an open encyclopedia if you can't edit it???\""
      ]
     },
     "metadata": {},
     "output_type": "display_data"
    },
    {
     "data": {
      "text/plain": [
       "'DIE FAG DIE FAG DIE FAG DIE FAG DIE FAG DIE FAG DIE FAG DIE FAG DIE FAG DIE FAG DIE FAG DIE FAG DIE FAG DIE FAG DIE FAG DIE FAG DIE FAG DIE FAG DIE FAG DIE FAG DIE FAG DIE FAG DIE FAG DIE FAG DIE FAG DIE FAG DIE FAG DIE FAG DIE FAG DIE FAG DIE FAG DIE FAG DIE FAG DIE FAG DIE FAG DIE FAG DIE FAG DIE FAG DIE FAG DIE FAG DIE FAG DIE FAG DIE FAG DIE FAG DIE FAG DIE FAG DIE FAG DIE FAG DIE FAG DIE FAG DIE FAG DIE FAG DIE FAG DIE FAG DIE FAG DIE FAG DIE FAG DIE FAG DIE FAG DIE FAG DIE FAG DIE FAG DIE FAG DIE FAG DIE FAG DIE FAG DIE FAG DIE FAG DIE FAG DIE FAG DIE FAG DIE FAG DIE FAG DIE FAG DIE FAG DIE FAG DIE FAG DIE FAG DIE FAG DIE FAG DIE FAG DIE FAG DIE FAG DIE FAG DIE FAG DIE FAG DIE FAG DIE FAG DIE FAG DIE FAG DIE FAG DIE FAG DIE FAG DIE FAG DIE FAG DIE FAG DIE FAG DIE FAG DIE FAG DIE FAG DIE FAG DIE FAG DIE FAG DIE FAG DIE FAG DIE FAG DIE FAG DIE FAG DIE FAG DIE FAG DIE FAG DIE FAG DIE FAG DIE FAG DIE FAG DIE FAG DIE FAG DIE FAG DIE FAG DIE FAG DIE FAG DIE FAG DIE FAG DIE FAG DIE FAG DIE FAG DIE FAG DIE FAG DIE FAG DIE FAG DIE FAG DIE FAG DIE FAG DIE FAG DIE FAG DIE FAG DIE FAG DIE FAG DIE FAG DIE FAG DIE FAG DIE FAG DIE FAG DIE FAG DIE FAG DIE FAG DIE FAG DIE FAG DIE FAG DIE FAG DIE FAG DIE FAG DIE FAG DIE FAG DIE FAG DIE FAG DIE FAG DIE FAG DIE FAG DIE FAG DIE FAG DIE FAG DIE FAG DIE FAG DIE FAG DIE FAG DIE FAG DIE FAG DIE FAG DIE FAG DIE FAG DIE FAG DIE FAG DIE FAG DIE FAG DIE FAG DIE FAG DIE FAG DIE FAG DIE FAG DIE FAG DIE FAG DIE FAG DIE FAG DIE FAG DIE FAG DIE FAG DIE FAG DIE FAG DIE FAG DIE FAG DIE FAG DIE FAG DIE FAG DIE FAG DIE FAG DIE FAG DIE FAG DIE FAG DIE FAG DIE FAG DIE FAG DIE FAG DIE FAG DIE FAG DIE FAG DIE FAG DIE FAG DIE FAG DIE FAG DIE FAG DIE FAG DIE FAG DIE FAG DIE FAG DIE FAG DIE FAG DIE FAG DIE FAG DIE FAG DIE FAG DIE FAG DIE FAG DIE FAG DIE FAG DIE FAG DIE FAG DIE FAG DIE FAG DIE FAG DIE FAG DIE FAG DIE FAG DIE FAG DIE FAG DIE FAG DIE FAG DIE FAG DIE FAG DIE FAG DIE FAG DIE FAG DIE FAG DIE FAG DIE FAG DIE FAG DIE FAG DIE FAG DIE FAG DIE FAG DIE FAG DIE FAG DIE FAG DIE FAG DIE FAG DIE FAG DIE FAG DIE FAG DIE FAG DIE FAG DIE FAG DIE FAG DIE FAG DIE FAG DIE FAG DIE FAG DIE FAG DIE FAG DIE FAG DIE FAG DIE FAG DIE FAG DIE FAG DIE FAG DIE FAG DIE FAG DIE FAG DIE FAG DIE FAG DIE FAG DIE FAG DIE FAG DIE FAG DIE FAG DIE FAG DIE FAG DIE FAG DIE FAG DIE FAG DIE FAG DIE FAG DIE FAG DIE FAG DIE FAG DIE FAG DIE FAG DIE FAG DIE FAG DIE FAG DIE FAG DIE FAG DIE FAG DIE FAG DIE FAG DIE FAG DIE FAG DIE FAG DIE FAG DIE FAG DIE FAG DIE FAG DIE FAG DIE FAG DIE FAG DIE FAG DIE FAG DIE FAG DIE FAG DIE FAG DIE FAG DIE FAG DIE FAG DIE FAG DIE FAG DIE FAG DIE FAG DIE FAG DIE FAG DIE FAG DIE FAG DIE FAG DIE FAG DIE FAG DIE FAG DIE FAG DIE FAG DIE FAG DIE FAG DIE FAG DIE FAG DIE FAG DIE FAG DIE FAG DIE FAG DIE FAG DIE FAG DIE FAG DIE FAG DIE FAG DIE FAG DIE FAG DIE FAG DIE FAG DIE FAG DIE FAG DIE FAG DIE FAG DIE FAG DIE FAG DIE FAG DIE FAG DIE FAG DIE FAG DIE FAG DIE FAG DIE FAG DIE FAG DIE FAG DIE FAG DIE FAG DIE FAG DIE FAG DIE FAG DIE FAG DIE FAG DIE FAG DIE FAG DIE FAG DIE FAG DIE FAG DIE FAG DIE FAG DIE FAG DIE FAG DIE FAG DIE FAG DIE FAG DIE FAG DIE FAG DIE FAG DIE FAG DIE FAG DIE FAG DIE FAG DIE FAG DIE FAG DIE FAG DIE FAG DIE FAG DIE FAG DIE FAG DIE FAG DIE FAG DIE FAG DIE FAG DIE FAG DIE FAG DIE FAG DIE FAG DIE FAG DIE FAG DIE FAG DIE FAG DIE FAG DIE FAG DIE FAG DIE FAG DIE FAG DIE FAG DIE FAG DIE FAG DIE FAG DIE FAG DIE FAG DIE FAG DIE FAG DIE FAG DIE FAG DIE FAG DIE FAG DIE FAG DIE FAG DIE FAG DIE FAG DIE FAG DIE FAG DIE FAG DIE FAG DIE FAG DIE FAG DIE FAG DIE FAG DIE FAG DIE FAG DIE FAG DIE FAG DIE FAG DIE FAG DIE FAG DIE FAG DIE FAG DIE FAG DIE FAG DIE FAG DIE FAG DIE FAG DIE FAG DIE FAG DIE FAG DIE FAG DIE FAG DIE FAG DIE FAG DIE FAG DIE FAG DIE FAG DIE FAG DIE FAG DIE FAG DIE FAG DIE FAG DIE FAG DIE FAG DIE FAG DIE FAG DIE FAG DIE FAG DIE FAG DIE FAG DIE FAG DIE FAG DIE FAG DIE FAG DIE FAG DIE FAG DIE FAG DIE FAG DIE FAG DIE FAG DIE FAG DIE FAG DIE FAG DIE FAG DIE FAG DIE FAG DIE FAG DIE FAG DIE FAG DIE FAG DIE FAG DIE FAG DIE FAG DIE FAG DIE FAG DIE FAG DIE FAG DIE FAG DIE FAG DIE FAG DIE FAG DIE FAG DIE FAG DIE FAG DIE FAG DIE FAG DIE FAG DIE FAG DIE FAG DIE FAG DIE FAG DIE FAG DIE FAG DIE FAG DIE FAG DIE FAG DIE FAG DIE FAG DIE FAG DIE FAG DIE FAG DIE FAG DIE FAG DIE FAG DIE FAG DIE FAG DIE FAG DIE FAG DIE FAG DIE FAG DIE FAG DIE FAG DIE FAG DIE FAG DIE FAG DIE FAG DIE FAG DIE FAG DIE FAG DIE FAG DIE FAG DIE FAG DIE FAG DIE FAG DIE FAG DIE FAG DIE FAG DIE FAG DIE FAG DIE FAG DIE FAG DIE FAG DIE FAG DIE FAG DIE FAG DIE FAG DIE FAG DIE FAG DIE FAG DIE FAG DIE FAG DIE FAG DIE FAG DIE FAG DIE FAG DIE FAG DIE FAG DIE FAG DIE FAG DIE FAG DIE FAG DIE FAG DIE FAG DIE FAG DIE FAG DIE FAG DIE FAG DIE FAG DIE FAG DIE FAG DIE FAG DIE FAG DIE FAG DIE FAG DIE FAG DIE FAG DIE FAG DIE FAG DIE FAG DIE FAG DIE FAG DIE FAG DIE FAG DIE FAG DIE FAG DIE FAG DIE FAG DIE FAG DIE FAG DIE FAG DIE FAG DIE FAG DIE FAG DIE FAG DIE FAG DIE FAG DIE FAG DIE FAG DIE FAG DIE FAG DIE FAG DIE FAG DIE FAG DIE FAG DIE FAG DIE FAG'"
      ]
     },
     "metadata": {},
     "output_type": "display_data"
    },
    {
     "data": {
      "text/plain": [
       "'Just you try you fag.'"
      ]
     },
     "metadata": {},
     "output_type": "display_data"
    },
    {
     "data": {
      "text/plain": [
       "'\"\\n\\nWow..\\nYou really are a wikipedia nerd...\\nGo ahead, ban me, it wouldn\\'t do anything good.\\nSeriously, you do not fucking mess with.\\nYou don\\'t fuck with me...\\nNow go ahead, ban me you little wikipedia nerd, it just proves you have no life...\\n-⊕ talk\"'"
      ]
     },
     "metadata": {},
     "output_type": "display_data"
    },
    {
     "data": {
      "text/plain": [
       "'Queers\\n\\nGet back in the closet you miserable fags. When was the last time you met a Queer who A. you could trust and B. who was really happy? remeber Aids cures queers....'"
      ]
     },
     "metadata": {},
     "output_type": "display_data"
    },
    {
     "name": "stdout",
     "output_type": "stream",
     "text": [
      "\n",
      "\n"
     ]
    }
   ],
   "source": [
    "analyze_class(2)"
   ]
  },
  {
   "cell_type": "markdown",
   "metadata": {
    "colab_type": "text",
    "id": "Lwpco7aB1GrZ"
   },
   "source": [
    "### 4.2.4 Threat"
   ]
  },
  {
   "cell_type": "code",
   "execution_count": 24,
   "metadata": {
    "colab": {
     "autoexec": {
      "startup": false,
      "wait_interval": 0
     },
     "base_uri": "https://localhost:8080/",
     "height": 258,
     "output_extras": [
      {
       "item_id": 1
      },
      {
       "item_id": 2
      },
      {
       "item_id": 3
      },
      {
       "item_id": 4
      },
      {
       "item_id": 5
      },
      {
       "item_id": 6
      },
      {
       "item_id": 7
      }
     ]
    },
    "colab_type": "code",
    "executionInfo": {
     "elapsed": 257,
     "status": "ok",
     "timestamp": 1518573466922,
     "user": {
      "displayName": "Chuan Li",
      "photoUrl": "//lh3.googleusercontent.com/-ry1V_A03qTg/AAAAAAAAAAI/AAAAAAAAAh4/Ea41Em8n49A/s50-c-k-no/photo.jpg",
      "userId": "106476928809257656982"
     },
     "user_tz": 480
    },
    "id": "gQgcRgOq1GLO",
    "outputId": "69893ed6-1588-41db-eff3-e86766fac8e6"
   },
   "outputs": [
    {
     "name": "stdout",
     "output_type": "stream",
     "text": [
      "77 predicted incorrectly (0.24% of all samples)\n",
      "Falsely predicted sequences have an average length of 31\n",
      "\n",
      "65 (84.42%) positive label were predicted to be negative\n",
      "Samples:\n"
     ]
    },
    {
     "data": {
      "text/plain": [
       "\"quick thing mate \\n\\nGive me a couple of reasons NOT to kill you plz. btw this is a shared IP adress on a school computer so don't even bother responding,\""
      ]
     },
     "metadata": {},
     "output_type": "display_data"
    },
    {
     "data": {
      "text/plain": [
       "'hi were bp [PARODIE] \\n\\nhello were gonna kill the gulf and yo and spill oil on your body and light ya up and shoot ya dead bodie cause were evil'"
      ]
     },
     "metadata": {},
     "output_type": "display_data"
    },
    {
     "data": {
      "text/plain": [
       "'you are a prat, and my revenge will be sweet! hahahahahaahahahahahahahahahahahahahahaha.'"
      ]
     },
     "metadata": {},
     "output_type": "display_data"
    },
    {
     "data": {
      "text/plain": [
       "'- Do it and I will cut you'"
      ]
     },
     "metadata": {},
     "output_type": "display_data"
    },
    {
     "data": {
      "text/plain": [
       "\"and your little faggot boy Propol, pray, pray little wonk that I don't find your little ass and kill you\""
      ]
     },
     "metadata": {},
     "output_type": "display_data"
    },
    {
     "name": "stdout",
     "output_type": "stream",
     "text": [
      "\n",
      "12 (15.58%) negative label were predicted to be positive\n",
      "Samples:\n"
     ]
    },
    {
     "data": {
      "text/plain": [
       "'I find you people absolutely despicable and disgusting that you allow blatant anti-Semites to become administrators. May Wikipedia burn in hell.'"
      ]
     },
     "metadata": {},
     "output_type": "display_data"
    },
    {
     "data": {
      "text/plain": [
       "'help me i feel like im going to kill myself and hurt some animals i care for'"
      ]
     },
     "metadata": {},
     "output_type": "display_data"
    },
    {
     "data": {
      "text/plain": [
       "'I think we both now that it is the other way around. But for me this is over. And I hope you can feel the same way to even if it wasnt moved to Death of.. as you really wanted. But to killing which still indicates foul play close to murder. Bye )'"
      ]
     },
     "metadata": {},
     "output_type": "display_data"
    },
    {
     "data": {
      "text/plain": [
       "'YOU CAN EAT MY SHITHOLE YOU CAN EAT MY SHITHOLE YOU CAN EAT MY SHITHOLE YOU CAN EAT MY SHITHOLE YOU CAN EAT MY SHITHOLE YOU CAN EAT MY SHITHOLE YOU CAN EAT MY SHITHOLE YOU CAN EAT MY SHITHOLE YOU CAN EAT MY SHITHOLE YOU CAN EAT MY SHITHOLE YOU CAN EAT MY SHITHOLE YOU CAN EAT MY SHITHOLE YOU CAN EAT MY SHITHOLE YOU CAN EAT MY SHITHOLE YOU CAN EAT MY SHITHOLE YOU CAN EAT MY SHITHOLE YOU CAN EAT MY SHITHOLE YOU CAN EAT MY SHITHOLE YOU CAN EAT MY SHITHOLE YOU CAN EAT MY SHITHOLE YOU CAN EAT MY SHITHOLE YOU CAN EAT MY SHITHOLE YOU CAN EAT MY SHITHOLE YOU CAN EAT MY SHITHOLE YOU CAN EAT MY SHITHOLE YOU CAN EAT MY SHITHOLE YOU CAN EAT MY SHITHOLE YOU CAN EAT MY SHITHOLE YOU CAN EAT MY SHITHOLE YOU CAN EAT MY SHITHOLE YOU CAN EAT MY SHITHOLE YOU CAN EAT MY SHITHOLE YOU CAN EAT MY SHITHOLE YOU CAN EAT MY SHITHOLE YOU CAN EAT MY SHITHOLE YOU CAN EAT MY SHITHOLE YOU CAN EAT MY SHITHOLE YOU CAN EAT MY SHITHOLE YOU CAN EAT MY SHITHOLE YOU CAN EAT MY SHITHOLE YOU CAN EAT MY SHITHOLE YOU CAN EAT MY SHITHOLE YOU CAN EAT MY SHITHOLE YOU CAN EAT MY SHITHOLE YOU CAN EAT MY SHITHOLE YOU CAN EAT MY SHITHOLE YOU CAN EAT MY SHITHOLE YOU CAN EAT MY SHITHOLE YOU CAN EAT MY SHITHOLE YOU CAN EAT MY SHITHOLE YOU CAN EAT MY SHITHOLE YOU CAN EAT MY SHITHOLE YOU CAN EAT MY SHITHOLE YOU CAN EAT MY SHITHOLE YOU CAN EAT MY SHITHOLE YOU CAN EAT MY SHITHOLE YOU CAN EAT MY SHITHOLE YOU CAN EAT MY SHITHOLE YOU CAN EAT MY SHITHOLE YOU CAN EAT MY SHITHOLE YOU CAN EAT MY SHITHOLE YOU CAN EAT MY SHITHOLE YOU CAN EAT MY SHITHOLE YOU CAN EAT MY SHITHOLE YOU CAN EAT MY SHITHOLE YOU CAN EAT MY SHITHOLE YOU CAN EAT MY SHITHOLE YOU CAN EAT MY SHITHOLE YOU CAN EAT MY SHITHOLE YOU CAN EAT MY SHITHOLE YOU CAN EAT MY SHITHOLE YOU CAN EAT MY SHITHOLE YOU CAN EAT MY SHITHOLE YOU CAN EAT MY SHITHOLE YOU CAN EAT MY SHITHOLE YOU CAN EAT MY SHITHOLE YOU CAN EAT MY SHITHOLE YOU CAN EAT MY SHITHOLE YOU CAN EAT MY SHITHOLE YOU CAN EAT MY SHITHOLE YOU CAN EAT MY SHITHOLE YOU CAN EAT MY SHITHOLE YOU CAN EAT MY SHITHOLE YOU CAN EAT MY SHITHOLE YOU CAN EAT MY SHITHOLE YOU CAN EAT MY SHITHOLE YOU CAN EAT MY SHITHOLE YOU CAN EAT MY SHITHOLE YOU CAN EAT MY SHITHOLE YOU CAN EAT MY SHITHOLE YOU CAN EAT MY SHITHOLE YOU CAN EAT MY SHITHOLE YOU CAN EAT MY SHITHOLE YOU CAN EAT MY SHITHOLE YOU CAN EAT MY SHITHOLE YOU CAN EAT MY SHITHOLE YOU CAN EAT MY SHITHOLE YOU CAN EAT MY SHITHOLE YOU CAN EAT MY SHITHOLE YOU CAN EAT MY SHITHOLE YOU CAN EAT MY SHITHOLE YOU CAN EAT MY SHITHOLE YOU CAN EAT MY SHITHOLE YOU CAN EAT MY SHITHOLE YOU CAN EAT MY SHITHOLE YOU CAN EAT MY SHITHOLE YOU CAN EAT MY SHITHOLE YOU CAN EAT MY SHITHOLE YOU CAN EAT MY SHITHOLE YOU CAN EAT MY SHITHOLE YOU CAN EAT MY SHITHOLE YOU CAN EAT MY SHITHOLE YOU CAN EAT MY SHITHOLE YOU CAN EAT MY SHITHOLE'"
      ]
     },
     "metadata": {},
     "output_type": "display_data"
    },
    {
     "data": {
      "text/plain": [
       "'Just To Let You Know. You have no life.\\nI hate you.I hate you.I hate you.I hate you.I hate you.I hate you.I hate you.I hate you.I hate you.I hate you.I hate you.I hate you.I hate you.I hate you.I hate you.I hate you.I hate you.I hate you.I hate you.I hate you.I hate you.I hate you.I hate you.I hate you.I hate you.I hate you.I hate you.I hate you.I hate you.I hate you.I hate you.I hate you.I hate you.I hate you.I hate you.I hate you.I hate you.I hate you.I hate you.I hate you.I hate you.I hate you.I hate you.I hate you.I hate you.I hate you.I hate you.I hate you.I hate you.I hate you.I hate you.I hate you.I hate you.I hate you.I hate you.I hate you.I hate you.I hate you.I hate you.I hate you.I hate you.I hate you.I hate you.I hate you.I hate you.I hate you.I hate you.I hate you.I hate you.I hate you.I hate you.I hate you.I hate you.I hate you.I hate you.I hate you.I hate you.I hate you.I hate you.I hate you.I hate you.I hate you.I hate you.I hate you.I hate you.I hate you.I hate you.I hate you.I hate you.I hate you.I hate you.I hate you.I hate you.I hate you.I hate you.I hate you.I hate you.I hate you.I hate you.I hate you.I hate you.I hate you.I hate you.I hate you.I hate you.I hate you.I hate you.I hate you.I hate you.I hate you.I hate you.I hate you.I hate you.I hate you.I hate you.I hate you.I hate you.I hate you.I hate you.I hate you.I hate you.I hate you.I hate you.I hate you.I hate you.I hate you.I hate you.I hate you.I hate you.I hate you.I hate you.I hate you.I hate you.I hate you.I hate you.I hate you.I hate you.I hate you.I hate you.I hate you.I hate you.I hate you.I hate you.I hate you.I hate you.I hate you.I hate you.I hate you.I hate you.I hate you.I hate you.I hate you.I hate you.I hate you.I hate you.I hate you.I hate you.I hate you.I hate you.I hate you.I hate you.I hate you.I hate you.I hate you.I hate you.I hate you.I hate you.I hate you.I hate you.I hate you.I hate you.I hate you.I hate you.I hate you.I hate you.I hate you.I hate you.I hate you.I hate you.I hate you.I hate you.I hate you.I hate you.I hate you.I hate you.I hate you.I hate you.I hate you.I hate you.I hate you.I hate you.I hate you.I hate you.I hate you.I hate you.I hate you.I hate you.I hate you.I hate you.I hate you.I hate you.I hate you.I hate you.I hate you.I hate you.I hate you.I hate you.I hate you.I hate you.I hate you.I hate you.I hate you.I hate you.I hate you.I hate you.I hate you.I hate you.I hate you.I hate you.I hate you.I hate you.I hate you.I hate you.I hate you.I hate you.I hate you.I hate you.I hate you.I hate you.I hate you.I hate you.I hate you.I hate you.I hate you.I hate you.I hate you.I hate you.I hate you.I hate you.I hate you.I hate you.I hate you.I hate you.I hate you.I hate you.I hate you.I hate you.I hate you.I hate you.I hate you.I hate you.I hate you.I hate you.I hate you.I hate you.I hate you.I hate you.I hate you.I hate you.I hate you.I hate you.I hate you.I hate you.I hate you.I hate you.I hate you.I hate you.I hate you.I hate you.I hate you.I hate you.I hate you.I hate you.I hate you.I hate you.I hate you.I hate you.I hate you.I hate you.I hate you.I hate you.I hate you.I hate you.I hate you.I hate you.I hate you.I hate you.I hate you.I hate you.I hate you.I hate you.I hate you.I hate you.I hate you.I hate you.I hate you.I hate you.I hate you.I hate you.I hate you.I hate you.I hate you.I hate you.I hate you.I hate you.I hate you.I hate you.I hate you.I hate you.I hate you.I hate you.I hate you.I hate you.I hate you.I hate you.I hate you.I hate you.I hate you.I hate you.I hate you.I hate you.I hate you.I hate you.I hate you.I hate you.I hate you.I hate you.I hate you.I hate you.I hate you.I hate you.I hate you.I hate you.I hate you.I hate you.I hate you.I hate you.I hate you.I hate you.I hate you.I hate you.I hate you.I hate you.I hate you.I hate you.I hate you.I hate you.I hate you.I hate you.I hate you.I hate you.I hate you.I hate you.I hate you.I hate you.I hate you.I hate you.I hate you.I hate you.I hate you.I hate you.I hate you.I hate you.I hate you.I hate you.I hate you.I hate you.I hate you.I hate you.I hate you.I hate you.I hate you.I hate you.I hate you.I hate you.I hate you.I hate you.I hate you.I hate you.I hate you.I hate you.I hate you.I hate you.I hate you.I hate you.I hate you.I hate you.I hate you.I hate you.I hate you.I hate you.I hate you.I hate you.I hate you.I hate you.I hate you.I hate you.I hate you.I hate you.I hate you.I hate you.I hate you.I hate you.I hate you.I hate you.I hate you.I hate you.I hate you.I hate you.I hate you.I hate you.I hate you.I hate you.I hate you.I hate you.I hate you.I hate you.I hate you.I hate you.I hate you.I hate you.I hate you.I hate you.I hate you.I hate you.I hate you.I hate you.I hate you.I hate you.I hate you.I hate you.I hate you. hate you.I hate you.I hate you.I hate you.I hate you.I hate you.I hate you.I hate you.I hate you.I hate you.I hate you.I hate you.I hate you.I hate you.I hate you.I hate you.I hate you.I'"
      ]
     },
     "metadata": {},
     "output_type": "display_data"
    },
    {
     "name": "stdout",
     "output_type": "stream",
     "text": [
      "\n",
      "\n"
     ]
    }
   ],
   "source": [
    "analyze_class(3)"
   ]
  },
  {
   "cell_type": "markdown",
   "metadata": {
    "colab_type": "text",
    "id": "6lkRScLJ1fGN"
   },
   "source": [
    "### 4.2.5 Insult"
   ]
  },
  {
   "cell_type": "code",
   "execution_count": 25,
   "metadata": {
    "colab": {
     "autoexec": {
      "startup": false,
      "wait_interval": 0
     },
     "base_uri": "https://localhost:8080/",
     "height": 360,
     "output_extras": [
      {
       "item_id": 1
      },
      {
       "item_id": 2
      },
      {
       "item_id": 3
      },
      {
       "item_id": 4
      },
      {
       "item_id": 5
      },
      {
       "item_id": 6
      },
      {
       "item_id": 7
      },
      {
       "item_id": 8
      },
      {
       "item_id": 9
      },
      {
       "item_id": 10
      },
      {
       "item_id": 11
      },
      {
       "item_id": 12
      },
      {
       "item_id": 13
      }
     ]
    },
    "colab_type": "code",
    "executionInfo": {
     "elapsed": 270,
     "status": "ok",
     "timestamp": 1518573480301,
     "user": {
      "displayName": "Chuan Li",
      "photoUrl": "//lh3.googleusercontent.com/-ry1V_A03qTg/AAAAAAAAAAI/AAAAAAAAAh4/Ea41Em8n49A/s50-c-k-no/photo.jpg",
      "userId": "106476928809257656982"
     },
     "user_tz": 480
    },
    "id": "zJ2VKxgK1hRC",
    "outputId": "68a3f353-831b-426f-85dc-9d65a39561cd"
   },
   "outputs": [
    {
     "name": "stdout",
     "output_type": "stream",
     "text": [
      "784 predicted incorrectly (2.46% of all samples)\n",
      "Falsely predicted sequences have an average length of 32\n",
      "\n",
      "507 (64.67%) positive label were predicted to be negative\n",
      "Samples:\n"
     ]
    },
    {
     "data": {
      "text/plain": [
       "'Whos the douche that deleated all of the info and crap I really want to curse them out right now.'"
      ]
     },
     "metadata": {},
     "output_type": "display_data"
    },
    {
     "data": {
      "text/plain": [
       "'Yardie \\n\\nFuckidiot\\nWhat you no about YARDIE?\\n\\nHuh\\n\\nI live this life in crew\\n\\nPo lice come around dey prang the gun and Yardie go down.  I see it I cover kids eyes\\n\\nYou tell me you know more about Yardie than me?\\n\\nYou neder even bein nottingahm huh?\\n\\nYou know rio ferdinand you read papers??  You get rid if tings that is fact true fact\\nbecause you pig ignorant white boy from not even nottingham or london or brighton where YARDIE life is way of life\\n\\nYou mess with my YARDIE then I tract you down i point my gun and prang you fall\\n\\ngfuck\\n\\ngood day to you'"
      ]
     },
     "metadata": {},
     "output_type": "display_data"
    },
    {
     "data": {
      "text/plain": [
       "'Che\\n\\nStop being such a jerk, read the cited material below.  Some of the material states that che had no combat victories.  Stop deleting the cited material...especially if you have not provided evidence to the contrary.  I have a cited source, it should stay. If anything the burdon of proof is on you.  Leave it alone.  (Gibby )'"
      ]
     },
     "metadata": {},
     "output_type": "display_data"
    },
    {
     "data": {
      "text/plain": [
       "'Were you also the person who reverted a link to an existing image?\\n\\nI think that you should have tagged this page, not reverted my edits.\\n\\nI further think that you are simply a pedantic jerk. Sorry. But your actions made wikipedia worse, and I am pretty sure that you violated wikipedia policy.'"
      ]
     },
     "metadata": {},
     "output_type": "display_data"
    },
    {
     "data": {
      "text/plain": [
       "'Yeah, whatever. You are an arrogant deluded buffoon with a defective brain. Seek medical help.\\n\\nNewsflash: Wikipedia is a disaster.'"
      ]
     },
     "metadata": {},
     "output_type": "display_data"
    },
    {
     "name": "stdout",
     "output_type": "stream",
     "text": [
      "\n",
      "277 (35.33%) negative label were predicted to be positive\n",
      "Samples:\n"
     ]
    },
    {
     "data": {
      "text/plain": [
       "'no logic \\n\\nWhy is it that on tv you can see sombody blown up and see the news were they show you a hostage situation and you see sombodys head being shot off but saying fuck, shit, asshole, cock,pussy,god damn, ect. is concedered by the fcc wrong and could have negative effects. Words dont hurt. a four year old watching tv and seeing sombody get the shit blown the fuck out of them will have more of a negative. FUCK the FCC.'"
      ]
     },
     "metadata": {},
     "output_type": "display_data"
    },
    {
     "data": {
      "text/plain": [
       "'No seriously. HE IS BANNED!!! Now by saying that you are feeding the troll. Idiot.'"
      ]
     },
     "metadata": {},
     "output_type": "display_data"
    },
    {
     "data": {
      "text/plain": [
       "'BALLS BALLS BALLS BALLS BALLS BALLS BALLS BALLS BALLS BALLS BALLS BALLS BALLS BALLS BALLS BALLS BALLS BALLS BALLS BALLS BALLS BALLS BALLS BALLS BALLS BALLS BALLS BALLS BALLS BALLS BALLS BALLS BALLS BALLS BALLS BALLS BALLS BALLS BALLS BALLS BALLS BALLS BALLS BALLS BALLS BALLS BALLS BALLS BALLS BALLS BALLS BALLS BALLS BALLS BALLS BALLS BALLS BALLS BALLS BALLS BALLS BALLS BALLS BALLS BALLS BALLS BALLS BALLS BALLS BALLS BALLS BALLS BALLS BALLS BALLS BALLS BALLS BALLS BALLS BALLS BALLS BALLS BALLS BALLS BALLS BALLS BALLS BALLS BALLS BALLS BALLS BALLS BALLS BALLS BALLS BALLS BALLS BALLS BALLS BALLS BALLS BALLS BALLS BALLS BALLS BALLS BALLS BALLS BALLS BALLS BALLS BALLS BALLS BALLS BALLS BALLS BALLS BALLS BALLS BALLS BALLS BALLS BALLS BALLS BALLS BALLS BALLS BALLS BALLS BALLS BALLS BALLS BALLS BALLS BALLS BALLS BALLS BALLS BALLS BALLS BALLS BALLS BALLS BALLS BALLS BALLS BALLS BALLS BALLS BALLS BALLS BALLS BALLS BALLS BALLS BALLS BALLS BALLS BALLS BALLS BALLS BALLS BALLS BALLS BALLS BALLS BALLS BALLS BALLS BALLS BALLS BALLS BALLS BALLS BALLS BALLS BALLS BALLS BALLS BALLS BALLS BALLS BALLS BALLS BALLS BALLS BALLS BALLS BALLS BALLS BALLS BALLS BALLS BALLS BALLS BALLS BALLS BALLS BALLS BALLS BALLS BALLS BALLS BALLS BALLS BALLS BALLS BALLS BALLS BALLS BALLS BALLS BALLS BALLS BALLS BALLS BALLS BALLS BALLS BALLS BALLS BALLS BALLS BALLS BALLS BALLS BALLS BALLS BALLS BALLS BALLS BALLS BALLS BALLS BALLS BALLS BALLS BALLS BALLS BALLS BALLS BALLS BALLS BALLS BALLS BALLS BALLS BALLS BALLS BALLS BALLS BALLS BALLS BALLS BALLS BALLS BALLS BALLS BALLS BALLS BALLS BALLS BALLS BALLS BALLS BALLS BALLS BALLS BALLS BALLS BALLS BALLS BALLS BALLS BALLS BALLS BALLS BALLS BALLS BALLS BALLS BALLS BALLS BALLS BALLS BALLS BALLS BALLS BALLS BALLS BALLS BALLS BALLS BALLS BALLS BALLS BALLS BALLS BALLS BALLS BALLS BALLS BALLS BALLS BALLS BALLS BALLS BALLS BALLS BALLS BALLS BALLS BALLS BALLS BALLS BALLS BALLS BALLS BALLS BALLS BALLS BALLS BALLS BALLS BALLS BALLS BALLS BALLS BALLS BALLS BALLS BALLS BALLS BALLS BALLS BALLS BALLS BALLS BALLS BALLS BALLS BALLS BALLS BALLS BALLS BALLS BALLS BALLS BALLS BALLS BALLS BALLS BALLS BALLS BALLS BALLS BALLS BALLS BALLS BALLS BALLS BALLS BALLS BALLS BALLS BALLS BALLS BALLS BALLS BALLS BALLS BALLS BALLS BALLS BALLS BALLS BALLS BALLS BALLS BALLS BALLS BALLS BALLS BALLS BALLS BALLS BALLS BALLS BALLS BALLS BALLS BALLS BALLS BALLS BALLS BALLS BALLS BALLS BALLS BALLS BALLS BALLS BALLS BALLS BALLS BALLS BALLS BALLS BALLS BALLS BALLS BALLS BALLS BALLS BALLS BALLS BALLS BALLS BALLS BALLS BALLS BALLS BALLS BALLS BALLS BALLS BALLS BALLS BALLS BALLS BALLS BALLS BALLS BALLS BALLS BALLS BALLS BALLS BALLS BALLS BALLS BALLS BALLS BALLS BALLS BALLS BALLS BALLS BALLS BALLS BALLS BALLS BALLS BALLS BALLS BALLS BALLS BALLS BALLS BALLS BALLS BALLS BALLS BALLS BALLS BALLS BALLS BALLS BALLS BALLS BALLS BALLS BALLS BALLS BALLS BALLS BALLS BALLS BALLS BALLS BALLS BALLS BALLS BALLS BALLS BALLS BALLS BALLS BALLS BALLS BALLS BALLS BALLS BALLS BALLS BALLS BALLS BALLS BALLS BALLS BALLS BALLS BALLS BALLS BALLS BALLS BALLS BALLS BALLS BALLS BALLS BALLS BALLS BALLS BALLS BALLS BALLS BALLS BALLS BALLS BALLS BALLS BALLS BALLS BALLS BALLS BALLS BALLS BALLS BALLS BALLS BALLS BALLS BALLS BALLS BALLS BALLS BALLS BALLS BALLS BALLS BALLS BALLS BALLS BALLS BALLS BALLS BALLS BALLS BALLS BALLS BALLS BALLS BALLS BALLS BALLS BALLS BALLS BALLS BALLS BALLS BALLS BALLS BALLS BALLS BALLS BALLS BALLS BALLS BALLS BALLS BALLS BALLS BALLS BALLS BALLS BALLS BALLS BALLS BALLS BALLS BALLS BALLS BALLS BALLS BALLS BALLS BALLS BALLS BALLS BALLS BALLS BALLS BALLS BALLS BALLS BALLS BALLS BALLS BALLS BALLS BALLS BALLS BALLS BALLS BALLS BALLS BALLS BALLS BALLS BALLS BALLS BALLS BALLS BALLS BALLS BALLS BALLS BALLS BALLS BALLS BALLS BALLS BALLS BALLS BALLS BALLS BALLS BALLS BALLS BALLS BALLS BALLS BALLS BALLS BALLS BALLS BALLS BALLS BALLS BALLS BALLS BALLS BALLS BALLS BALLS BALLS BALLS BALLS BALLS BALLS BALLS BALLS BALLS BALLS BALLS BALLS BALLS BALLS BALLS BALLS BALLS BALLS BALLS BALLS BALLS BALLS BALLS BALLS BALLS BALLS BALLS BALLS BALLS BALLS BALLS BALLS BALLS BALLS BALLS BALLS BALLS BALLS BALLS BALLS BALLS BALLS BALLS BALLS BALLS BALLS BALLS BALLS BALLS BALLS BALLS BALLS BALLS BALLS BALLS BALLS BALLS BALLS BALLS BALLS BALLS BALLS BALLS BALLS BALLS BALLS BALLS BALLS BALLS BALLS BALLS BALLS BALLS BALLS BALLS BALLS BALLS BALLS BALLS BALLS BALLS BALLS BALLS BALLS BALLS BALLS BALLS BALLS BALLS BALLS BALLS BALLS BALLS BALLS BALLS BALLS BALLS BALLS BALLS BALLS BALLS BALLS BALLS BALLS BALLS BALLS BALLS BALLS BALLS BALLS BALLS BALLS BALLS BALLS BALLS BALLS BALLS BALLS BALLS BALLS BALLS BALLS BALLS BALLS BALLS BALLS BALLS BALLS BALLS BALLS BALLS BALLS BALLS BALLS BALLS BALLS BALLS BALLS BALLS BALLS BALLS BALLS BALLS BALLS BALLS BALLS BALLS BALLS BALLS BALLS BALLS BALLS BALLS BALLS BALLS BALLS BALLS BALLS BALLS BALLS BALLS BALLS BALLS BALLS BALLS BALLS BALLS BALLS BALLS BALLS BALLS BALLS BALLS BALLS BALLS BALLS BALLS BALLS BALLS BALLS BALLS BALLS BALLS BALLS BALLS BALLS BALLS BALLS BA'"
      ]
     },
     "metadata": {},
     "output_type": "display_data"
    },
    {
     "data": {
      "text/plain": [
       "'D Macks You are a pathetic american who will distrusts the rest of the world.  Just give it up mate you are a sad individual'"
      ]
     },
     "metadata": {},
     "output_type": "display_data"
    },
    {
     "data": {
      "text/plain": [
       "'Hello asshole. Your mother might be a cross wiki vandal or even a cross country whore but I am not. You blocked me on a groundless basis only because your  asked you too. I have not done anything wrong in English wikipedia. But you will pay the price for your stupid action.'"
      ]
     },
     "metadata": {},
     "output_type": "display_data"
    },
    {
     "name": "stdout",
     "output_type": "stream",
     "text": [
      "\n",
      "\n"
     ]
    }
   ],
   "source": [
    "analyze_class(4)"
   ]
  },
  {
   "cell_type": "markdown",
   "metadata": {
    "colab_type": "text",
    "id": "ybjmae651jxY"
   },
   "source": [
    "### 4.2.6 Identity Hate"
   ]
  },
  {
   "cell_type": "code",
   "execution_count": 26,
   "metadata": {
    "colab": {
     "autoexec": {
      "startup": false,
      "wait_interval": 0
     },
     "base_uri": "https://localhost:8080/",
     "height": 258,
     "output_extras": [
      {
       "item_id": 1
      },
      {
       "item_id": 2
      },
      {
       "item_id": 3
      },
      {
       "item_id": 4
      },
      {
       "item_id": 5
      },
      {
       "item_id": 6
      },
      {
       "item_id": 7
      }
     ]
    },
    "colab_type": "code",
    "executionInfo": {
     "elapsed": 440,
     "status": "ok",
     "timestamp": 1518573482230,
     "user": {
      "displayName": "Chuan Li",
      "photoUrl": "//lh3.googleusercontent.com/-ry1V_A03qTg/AAAAAAAAAAI/AAAAAAAAAh4/Ea41Em8n49A/s50-c-k-no/photo.jpg",
      "userId": "106476928809257656982"
     },
     "user_tz": 480
    },
    "id": "6ojSnXP51jPm",
    "outputId": "d1ee8ad8-5407-43c8-cab2-a5f77112fa2c"
   },
   "outputs": [
    {
     "name": "stdout",
     "output_type": "stream",
     "text": [
      "222 predicted incorrectly (0.70% of all samples)\n",
      "Falsely predicted sequences have an average length of 28\n",
      "\n",
      "149 (67.12%) positive label were predicted to be negative\n",
      "Samples:\n"
     ]
    },
    {
     "data": {
      "text/plain": [
       "\"Hey asshole, I'm Creamy3.  Why don't you go suck on your mommy's dried up, saggy, crusty old titties.  Go ahead and lick her sweaty, stinky old cunt while you're at it.  Fuck you cocksucker.\""
      ]
     },
     "metadata": {},
     "output_type": "display_data"
    },
    {
     "data": {
      "text/plain": [
       "'A proposal to cut down on AIDS \\n\\nLess AIDS would be spread if you were to stop inserting your minuscule penis into little boys.'"
      ]
     },
     "metadata": {},
     "output_type": "display_data"
    },
    {
     "data": {
      "text/plain": [
       "\"Roman Catholics\\n\\ni'm not accusing you but i think you're a fenian. You are ugly and probably the seventh born in a family. You have probably been molested at some point by a priest. You disgust me. SIEG HEIL!\""
      ]
     },
     "metadata": {},
     "output_type": "display_data"
    },
    {
     "data": {
      "text/plain": [
       "'u think i get impressed by some f@ck!ng swedish @$$hole who has been on Wiki for 2 years? Hell no. Official press releases by Media outlets have been accepted for years now - and so will this one be.'"
      ]
     },
     "metadata": {},
     "output_type": "display_data"
    },
    {
     "data": {
      "text/plain": [
       "'Sallary controversy  \\n\\nArzel, watch your back on the street\\n\\ndelete the truth , ill cut you on the street\\n\\nThe president of the Peabody Essex Museum Dan Monroe makes $578,254.00 a year with full benefits while all the guards are part time with no benefits.\\n\\nthis edit was undone by you, you are a piece of shit........  what are you on the payroll for that fuck dan monroe\\n\\njews like you give jews like me a bad name\\n\\ni know where you live......... go out with your friends dog for a walk be careful\\n\\ngo fuck yourself - you are  apiece of shit!'"
      ]
     },
     "metadata": {},
     "output_type": "display_data"
    },
    {
     "name": "stdout",
     "output_type": "stream",
     "text": [
      "\n",
      "73 (32.88%) negative label were predicted to be positive\n",
      "Samples:\n"
     ]
    },
    {
     "data": {
      "text/plain": [
       "'Suck my horny dutch balls'"
      ]
     },
     "metadata": {},
     "output_type": "display_data"
    },
    {
     "data": {
      "text/plain": [
       "\"Bongwarrior's mother loves to have sex with African Americans because she is a dirty whore who is addicted to crack.  Shoe began whoring herself out to gangs of African Americans when she was 16 to support her habit.\\n\\nOne night, she conceived Bongwarrior with one of her black pimps when she was 15.  After Bongwarrior was born, she gave him to her pimps, who pimped him out too.  As a result, Bongwarrior's anus suffered extensive damage.  He cannot control his defectaroy patterns, as a result of which he has to wear diapers.\\n\\nBongwarrior hates it when IP-hopping vandals inform the world of the truth about his mother.  He also doesn't realize that if he blocks an IP address, all the IP-hopping vandal has to do is weight for 10 minutes and then get a new IP address.  He is so retarted.  Or maybe he can't think because he is currently getting fucked in the ass by his mother's black pimp right now.\""
      ]
     },
     "metadata": {},
     "output_type": "display_data"
    },
    {
     "data": {
      "text/plain": [
       "'So which is, Dourque? Are you a Black, a woman or a Hispanic? Or do asshole sons of tax cheats qualify as an under-represented minority on NASCAR?'"
      ]
     },
     "metadata": {},
     "output_type": "display_data"
    },
    {
     "data": {
      "text/plain": [
       "'Eat a dick faggot\\nYou take internet too seriously. Anon will have your blood faggot.'"
      ]
     },
     "metadata": {},
     "output_type": "display_data"
    },
    {
     "data": {
      "text/plain": [
       "'Do humanity a favour \\n\\nand kill yourself, you nazi bias yank piece of shit  82.41.107.134'"
      ]
     },
     "metadata": {},
     "output_type": "display_data"
    },
    {
     "name": "stdout",
     "output_type": "stream",
     "text": [
      "\n",
      "\n"
     ]
    }
   ],
   "source": [
    "analyze_class(5)"
   ]
  },
  {
   "cell_type": "markdown",
   "metadata": {
    "colab_type": "text",
    "id": "GYOBKlWc12Rc"
   },
   "source": [
    "### 4.2.7 Overview"
   ]
  },
  {
   "cell_type": "code",
   "execution_count": 27,
   "metadata": {
    "colab": {
     "autoexec": {
      "startup": false,
      "wait_interval": 0
     },
     "base_uri": "https://localhost:8080/",
     "height": 235,
     "output_extras": [
      {
       "item_id": 1
      }
     ]
    },
    "colab_type": "code",
    "executionInfo": {
     "elapsed": 247,
     "status": "ok",
     "timestamp": 1518573484262,
     "user": {
      "displayName": "Chuan Li",
      "photoUrl": "//lh3.googleusercontent.com/-ry1V_A03qTg/AAAAAAAAAAI/AAAAAAAAAh4/Ea41Em8n49A/s50-c-k-no/photo.jpg",
      "userId": "106476928809257656982"
     },
     "user_tz": 480
    },
    "id": "w9g39VJ4n00f",
    "outputId": "8e4f9efb-795c-4253-de18-d7b2be471bb0"
   },
   "outputs": [
    {
     "data": {
      "text/html": [
       "<div>\n",
       "<style scoped>\n",
       "    .dataframe tbody tr th:only-of-type {\n",
       "        vertical-align: middle;\n",
       "    }\n",
       "\n",
       "    .dataframe tbody tr th {\n",
       "        vertical-align: top;\n",
       "    }\n",
       "\n",
       "    .dataframe thead th {\n",
       "        text-align: right;\n",
       "    }\n",
       "</style>\n",
       "<table border=\"1\" class=\"dataframe\">\n",
       "  <thead>\n",
       "    <tr style=\"text-align: right;\">\n",
       "      <th></th>\n",
       "      <th>toxic</th>\n",
       "      <th>severe_toxic</th>\n",
       "      <th>obscene</th>\n",
       "      <th>threat</th>\n",
       "      <th>insult</th>\n",
       "      <th>identity_hate</th>\n",
       "    </tr>\n",
       "  </thead>\n",
       "  <tbody>\n",
       "    <tr>\n",
       "      <th>label‰ of all</th>\n",
       "      <td>96</td>\n",
       "      <td>10</td>\n",
       "      <td>52</td>\n",
       "      <td>2</td>\n",
       "      <td>49</td>\n",
       "      <td>8</td>\n",
       "    </tr>\n",
       "    <tr>\n",
       "      <th>total wrong</th>\n",
       "      <td>1148</td>\n",
       "      <td>341</td>\n",
       "      <td>556</td>\n",
       "      <td>77</td>\n",
       "      <td>784</td>\n",
       "      <td>222</td>\n",
       "    </tr>\n",
       "    <tr>\n",
       "      <th>P-&gt;N</th>\n",
       "      <td>749</td>\n",
       "      <td>273</td>\n",
       "      <td>304</td>\n",
       "      <td>65</td>\n",
       "      <td>507</td>\n",
       "      <td>149</td>\n",
       "    </tr>\n",
       "    <tr>\n",
       "      <th>N-&gt;P</th>\n",
       "      <td>399</td>\n",
       "      <td>68</td>\n",
       "      <td>252</td>\n",
       "      <td>12</td>\n",
       "      <td>277</td>\n",
       "      <td>73</td>\n",
       "    </tr>\n",
       "    <tr>\n",
       "      <th>P-&gt;N %</th>\n",
       "      <td>65</td>\n",
       "      <td>80</td>\n",
       "      <td>54</td>\n",
       "      <td>84</td>\n",
       "      <td>64</td>\n",
       "      <td>67</td>\n",
       "    </tr>\n",
       "    <tr>\n",
       "      <th>N-&gt;P %</th>\n",
       "      <td>34</td>\n",
       "      <td>19</td>\n",
       "      <td>45</td>\n",
       "      <td>15</td>\n",
       "      <td>35</td>\n",
       "      <td>32</td>\n",
       "    </tr>\n",
       "    <tr>\n",
       "      <th>avg len</th>\n",
       "      <td>35</td>\n",
       "      <td>27</td>\n",
       "      <td>37</td>\n",
       "      <td>31</td>\n",
       "      <td>32</td>\n",
       "      <td>28</td>\n",
       "    </tr>\n",
       "  </tbody>\n",
       "</table>\n",
       "</div>"
      ],
      "text/plain": [
       "               toxic  severe_toxic  obscene  threat  insult  identity_hate\n",
       "label‰ of all     96            10       52       2      49              8\n",
       "total wrong     1148           341      556      77     784            222\n",
       "P->N             749           273      304      65     507            149\n",
       "N->P             399            68      252      12     277             73\n",
       "P->N %            65            80       54      84      64             67\n",
       "N->P %            34            19       45      15      35             32\n",
       "avg len           35            27       37      31      32             28"
      ]
     },
     "execution_count": 27,
     "metadata": {},
     "output_type": "execute_result"
    }
   ],
   "source": [
    "overview.astype(int)"
   ]
  },
  {
   "cell_type": "code",
   "execution_count": null,
   "metadata": {},
   "outputs": [],
   "source": []
  }
 ],
 "metadata": {
  "accelerator": "GPU",
  "colab": {
   "default_view": {},
   "name": "RCNN performance analysis.ipynb",
   "provenance": [],
   "version": "0.3.2",
   "views": {}
  },
  "kernelspec": {
   "display_name": "Python 3",
   "language": "python",
   "name": "python3"
  },
  "language_info": {
   "codemirror_mode": {
    "name": "ipython",
    "version": 3
   },
   "file_extension": ".py",
   "mimetype": "text/x-python",
   "name": "python",
   "nbconvert_exporter": "python",
   "pygments_lexer": "ipython3",
   "version": "3.5.2"
  }
 },
 "nbformat": 4,
 "nbformat_minor": 1
}
