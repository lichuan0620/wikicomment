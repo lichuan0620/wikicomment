{
 "cells": [
  {
   "cell_type": "markdown",
   "metadata": {
    "colab_type": "text",
    "id": "dXsRFoKJSNrH"
   },
   "source": [
    "# 1. Preparation\n",
    "We need to first import the required library, download the data, and load the data into the memory."
   ]
  },
  {
   "cell_type": "markdown",
   "metadata": {
    "colab_type": "text",
    "id": "swLpnk4u4XKo"
   },
   "source": [
    "## 1.1 Import"
   ]
  },
  {
   "cell_type": "code",
   "execution_count": 1,
   "metadata": {
    "colab": {
     "autoexec": {
      "startup": false,
      "wait_interval": 0
     },
     "base_uri": "https://localhost:8080/",
     "height": 394,
     "output_extras": [
      {
       "item_id": 5
      },
      {
       "item_id": 6
      }
     ]
    },
    "colab_type": "code",
    "executionInfo": {
     "elapsed": 4509,
     "status": "ok",
     "timestamp": 1518570583550,
     "user": {
      "displayName": "Chuan Li",
      "photoUrl": "//lh3.googleusercontent.com/-ry1V_A03qTg/AAAAAAAAAAI/AAAAAAAAAh4/Ea41Em8n49A/s50-c-k-no/photo.jpg",
      "userId": "106476928809257656982"
     },
     "user_tz": 480
    },
    "id": "9_NbEq2FSFLe",
    "outputId": "58bb96d9-3ffa-4ccf-b90a-c2db87f537b0"
   },
   "outputs": [
    {
     "name": "stdout",
     "output_type": "stream",
     "text": [
      "Importing required packages...\n",
      "[nltk_data] Downloading package stopwords to\n",
      "[nltk_data]     C:\\Users\\ChuanLi\\AppData\\Roaming\\nltk_data...\n",
      "[nltk_data]   Package stopwords is already up-to-date!\n",
      "[nltk_data] Downloading package wordnet to\n",
      "[nltk_data]     C:\\Users\\ChuanLi\\AppData\\Roaming\\nltk_data...\n",
      "[nltk_data]   Package wordnet is already up-to-date!\n"
     ]
    },
    {
     "name": "stderr",
     "output_type": "stream",
     "text": [
      "Using TensorFlow backend.\n"
     ]
    }
   ],
   "source": [
    "print('Importing required packages...')\n",
    "\n",
    "from IPython.display import clear_output\n",
    "import re\n",
    "import pandas as pd\n",
    "import numpy as np\n",
    "np.random.seed()\n",
    "import matplotlib.pyplot as plt\n",
    "import nltk\n",
    "from nltk.tokenize import TweetTokenizer\n",
    "from nltk.corpus import stopwords\n",
    "nltk.download('stopwords')\n",
    "from nltk.stem.wordnet import WordNetLemmatizer \n",
    "nltk.download('wordnet')\n",
    "from keras.preprocessing import sequence\n",
    "from keras.preprocessing import text as ktxt\n",
    "from keras.models import Sequential\n",
    "from keras.layers import Dense, Embedding, GRU, Dropout\n",
    "from keras.layers.convolutional import Conv1D, MaxPooling1D\n",
    "from keras.callbacks import EarlyStopping\n",
    "from sklearn.model_selection import train_test_split\n",
    "from sklearn import metrics\n",
    "\n",
    "\n",
    "def hint(message):\n",
    "    \"\"\"\n",
    "    erase previous ipynb output and show new message\n",
    "    \"\"\"\n",
    "    clear_output()\n",
    "    print(message)\n",
    "\n",
    "  "
   ]
  },
  {
   "cell_type": "markdown",
   "metadata": {
    "colab_type": "text",
    "id": "0oMhFbcOS7ch"
   },
   "source": [
    "## 1.2 Loading the Data"
   ]
  },
  {
   "cell_type": "code",
   "execution_count": 2,
   "metadata": {
    "colab": {
     "autoexec": {
      "startup": false,
      "wait_interval": 0
     },
     "base_uri": "https://localhost:8080/",
     "height": 153,
     "output_extras": [
      {
       "item_id": 1
      }
     ]
    },
    "colab_type": "code",
    "executionInfo": {
     "elapsed": 128,
     "status": "ok",
     "timestamp": 1518570590592,
     "user": {
      "displayName": "Chuan Li",
      "photoUrl": "//lh3.googleusercontent.com/-ry1V_A03qTg/AAAAAAAAAAI/AAAAAAAAAh4/Ea41Em8n49A/s50-c-k-no/photo.jpg",
      "userId": "106476928809257656982"
     },
     "user_tz": 480
    },
    "id": "C1nwDbfiS-vX",
    "outputId": "d69716f3-d89c-49a1-91d3-7cfe42286b4b"
   },
   "outputs": [
    {
     "name": "stdout",
     "output_type": "stream",
     "text": [
      "Label distribution between training and validation set:\n",
      "           label     train  validation\n",
      "0          toxic  0.095750    0.096224\n",
      "1   severe_toxic  0.009941    0.010215\n",
      "2        obscene  0.052876    0.053235\n",
      "3         threat  0.003047    0.002789\n",
      "4         insult  0.049273    0.049726\n",
      "5  identity_hate  0.008922    0.008335\n"
     ]
    }
   ],
   "source": [
    "hint('loading data...')\n",
    "train = pd.read_csv('data/train.csv')\n",
    "train, valid = train_test_split(train, test_size=0.2)\n",
    "\n",
    "labels = [\n",
    "    'toxic', \n",
    "    'severe_toxic', \n",
    "    'obscene', \n",
    "    'threat', \n",
    "    'insult', \n",
    "    'identity_hate'\n",
    "]\n",
    "\n",
    "Ytr = train[labels].values\n",
    "Yva = valid[labels].values\n",
    "\n",
    "hint('Label distribution between training and validation set:')\n",
    "print(pd.DataFrame({\n",
    "    'label': labels,\n",
    "    'train': [np.mean(train[label]) for label in labels],\n",
    "    'validation' : [np.mean(valid[label]) for label in labels],\n",
    "}))"
   ]
  },
  {
   "cell_type": "markdown",
   "metadata": {
    "colab_type": "text",
    "id": "KA8OAJOJWAoe"
   },
   "source": [
    "# 2. Pre-processing the Input\n",
    "There are many ways to pre-process the raw strings into valid input for the model. Here we will do it by building a dictionary with all the comments from the training set, mapping the words to their index in the dictionary, and pad/crop the resulting sequences so that they have the same length."
   ]
  },
  {
   "cell_type": "markdown",
   "metadata": {
    "colab_type": "text",
    "id": "ZmEOAxm4wdNn"
   },
   "source": [
    "## 2.1 Cleaning Input"
   ]
  },
  {
   "cell_type": "code",
   "execution_count": 3,
   "metadata": {
    "colab": {
     "autoexec": {
      "startup": false,
      "wait_interval": 0
     },
     "base_uri": "https://localhost:8080/",
     "height": 34,
     "output_extras": [
      {
       "item_id": 1
      }
     ]
    },
    "colab_type": "code",
    "executionInfo": {
     "elapsed": 127,
     "status": "ok",
     "timestamp": 1518570683382,
     "user": {
      "displayName": "Chuan Li",
      "photoUrl": "//lh3.googleusercontent.com/-ry1V_A03qTg/AAAAAAAAAAI/AAAAAAAAAh4/Ea41Em8n49A/s50-c-k-no/photo.jpg",
      "userId": "106476928809257656982"
     },
     "user_tz": 480
    },
    "id": "Q5jQUn7MxSud",
    "outputId": "73b337ab-1654-422d-cad2-a82158bd8880"
   },
   "outputs": [
    {
     "name": "stdout",
     "output_type": "stream",
     "text": [
      "Done\n"
     ]
    }
   ],
   "source": [
    "tkzr = TweetTokenizer(preserve_case=False)\n",
    "eng_stopwords = set(stopwords.words('english'))\n",
    "lmtzr = WordNetLemmatizer()\n",
    "appos = {\n",
    "  \"aren't\" : \"are not\",\n",
    "  \"can't\" : \"cannot\",\n",
    "  \"couldn't\" : \"could not\",\n",
    "  \"didn't\" : \"did not\",\n",
    "  \"doesn't\" : \"does not\",\n",
    "  \"don't\" : \"do not\",\n",
    "  \"hadn't\" : \"had not\",\n",
    "  \"hasn't\" : \"has not\",\n",
    "  \"haven't\" : \"have not\",\n",
    "  \"he'd\" : \"he would\",\n",
    "  \"he'll\" : \"he will\",\n",
    "  \"he's\" : \"he is\",\n",
    "  \"i'd\" : \"I would\",\n",
    "  \"i'd\" : \"I had\",\n",
    "  \"i'll\" : \"I will\",\n",
    "  \"i'm\" : \"I am\",\n",
    "  \"isn't\" : \"is not\",\n",
    "  \"it's\" : \"it is\",\n",
    "  \"it'll\":\"it will\",\n",
    "  \"i've\" : \"I have\",\n",
    "  \"let's\" : \"let us\",\n",
    "  \"mightn't\" : \"might not\",\n",
    "  \"mustn't\" : \"must not\",\n",
    "  \"shan't\" : \"shall not\",\n",
    "  \"she'd\" : \"she would\",\n",
    "  \"she'll\" : \"she will\",\n",
    "  \"she's\" : \"she is\",\n",
    "  \"shouldn't\" : \"should not\",\n",
    "  \"that's\" : \"that is\",\n",
    "  \"there's\" : \"there is\",\n",
    "  \"they'd\" : \"they would\",\n",
    "  \"they'll\" : \"they will\",\n",
    "  \"they're\" : \"they are\",\n",
    "  \"they've\" : \"they have\",\n",
    "  \"we'd\" : \"we would\",\n",
    "  \"we're\" : \"we are\",\n",
    "  \"weren't\" : \"were not\",\n",
    "  \"we've\" : \"we have\",\n",
    "  \"what'll\" : \"what will\",\n",
    "  \"what're\" : \"what are\",\n",
    "  \"what's\" : \"what is\",\n",
    "  \"what've\" : \"what have\",\n",
    "  \"where's\" : \"where is\",\n",
    "  \"who'd\" : \"who would\",\n",
    "  \"who'll\" : \"who will\",\n",
    "  \"who're\" : \"who are\",\n",
    "  \"who's\" : \"who is\",\n",
    "  \"who've\" : \"who have\",\n",
    "  \"won't\" : \"will not\",\n",
    "  \"wouldn't\" : \"would not\",\n",
    "  \"you'd\" : \"you would\",\n",
    "  \"you'll\" : \"you will\",\n",
    "  \"you're\" : \"you are\",\n",
    "  \"you've\" : \"you have\",\n",
    "  \"'re\": \" are\",\n",
    "  \"wasn't\": \"was not\",\n",
    "  \"we'll\":\" will\",\n",
    "  \"didn't\": \"did not\"\n",
    "}\n",
    "\n",
    "def preprocess(comment):\n",
    "  \n",
    "    # credit to the author of this post:\n",
    "    # https://www.kaggle.com/jagangupta/stop-the-s-toxic-comments-eda\n",
    "\n",
    "    # remove special format\n",
    "    comment = re.sub('\\n\\t', '', comment)\n",
    "\n",
    "    # remove IP addresses\n",
    "    comment = re.sub('\\d{1,3}\\.\\d{1,3}\\.\\d{1,3}\\.\\d{1,3}', ' specipaddress ', comment)\n",
    "\n",
    "    # remove username\n",
    "    comment = re.sub(\"\\[\\[User.*\\]\", ' specusername ', comment)\n",
    "    comment = re.sub(\"\\[\\[User.*\\|\", ' specusername ', comment)\n",
    "\n",
    "    # tokenization \n",
    "    tokens = tkzr.tokenize(comment)\n",
    "\n",
    "    # aphostophe replacement\n",
    "    tokens = [ appos[token] if token in appos else token for token in tokens]\n",
    "\n",
    "    # remove stopwords\n",
    "    tokens = [ token for token in tokens if not token in eng_stopwords ]\n",
    "\n",
    "    # stemming\n",
    "    tokens = [ lmtzr.lemmatize(token, 'v') for token in tokens]\n",
    "\n",
    "    return \" \".join(tokens)\n",
    "  \n",
    "\n",
    "hint('Cleaning train set...')\n",
    "Xtr = train['comment_text'].apply(lambda c: preprocess(c))\n",
    "hint('Cleaning test set...')\n",
    "Xva = valid['comment_text'].apply(lambda c: preprocess(c))\n",
    "hint('Done')"
   ]
  },
  {
   "cell_type": "markdown",
   "metadata": {
    "colab_type": "text",
    "id": "btLphIdFwmts"
   },
   "source": [
    "## 2.2 Transforming Comments to Sequences"
   ]
  },
  {
   "cell_type": "code",
   "execution_count": 4,
   "metadata": {
    "colab": {
     "autoexec": {
      "startup": false,
      "wait_interval": 0
     },
     "base_uri": "https://localhost:8080/",
     "height": 34,
     "output_extras": [
      {
       "item_id": 1
      }
     ]
    },
    "colab_type": "code",
    "executionInfo": {
     "elapsed": 144,
     "status": "ok",
     "timestamp": 1518570698059,
     "user": {
      "displayName": "Chuan Li",
      "photoUrl": "//lh3.googleusercontent.com/-ry1V_A03qTg/AAAAAAAAAAI/AAAAAAAAAh4/Ea41Em8n49A/s50-c-k-no/photo.jpg",
      "userId": "106476928809257656982"
     },
     "user_tz": 480
    },
    "id": "JmEQQZs-kHK2",
    "outputId": "073af561-39f5-4c18-acee-ab2794e9e3a6"
   },
   "outputs": [
    {
     "name": "stdout",
     "output_type": "stream",
     "text": [
      "Done\n"
     ]
    }
   ],
   "source": [
    "vocab_max = 20000\n",
    "\n",
    "hint('Fitting the tokenizer...')\n",
    "tokenizer = ktxt.Tokenizer(num_words=vocab_max)\n",
    "tokenizer.fit_on_texts(Xtr)\n",
    "\n",
    "hint('Tokenizing...')\n",
    "Xtr = tokenizer.texts_to_sequences(Xtr)\n",
    "Xva = tokenizer.texts_to_sequences(Xva)\n",
    "\n",
    "hint('padding the sequences...')\n",
    "max_comment_length = 200  # padded/cropped comment length\n",
    "Xtr = sequence.pad_sequences(Xtr, maxlen=max_comment_length)\n",
    "Xva = sequence.pad_sequences(Xva, maxlen=max_comment_length)\n",
    "\n",
    "hint('Done')"
   ]
  },
  {
   "cell_type": "markdown",
   "metadata": {
    "colab_type": "text",
    "id": "OWHeGxuz3Wfn"
   },
   "source": [
    "# 3. Training Model"
   ]
  },
  {
   "cell_type": "code",
   "execution_count": 5,
   "metadata": {
    "colab": {
     "autoexec": {
      "startup": false,
      "wait_interval": 0
     },
     "base_uri": "https://localhost:8080/",
     "height": 374,
     "output_extras": [
      {
       "item_id": 1
      }
     ]
    },
    "colab_type": "code",
    "executionInfo": {
     "elapsed": 389,
     "status": "ok",
     "timestamp": 1518570698678,
     "user": {
      "displayName": "Chuan Li",
      "photoUrl": "//lh3.googleusercontent.com/-ry1V_A03qTg/AAAAAAAAAAI/AAAAAAAAAh4/Ea41Em8n49A/s50-c-k-no/photo.jpg",
      "userId": "106476928809257656982"
     },
     "user_tz": 480
    },
    "id": "GoawhjBA3nyc",
    "outputId": "e814cec6-a98e-4cce-da53-d2579963c70f"
   },
   "outputs": [
    {
     "name": "stdout",
     "output_type": "stream",
     "text": [
      "_________________________________________________________________\n",
      "Layer (type)                 Output Shape              Param #   \n",
      "=================================================================\n",
      "embedding_1 (Embedding)      (None, 200, 100)          2000000   \n",
      "_________________________________________________________________\n",
      "dropout_1 (Dropout)          (None, 200, 100)          0         \n",
      "_________________________________________________________________\n",
      "conv1d_1 (Conv1D)            (None, 200, 64)           19264     \n",
      "_________________________________________________________________\n",
      "max_pooling1d_1 (MaxPooling1 (None, 100, 64)           0         \n",
      "_________________________________________________________________\n",
      "gru_1 (GRU)                  (None, 32)                9312      \n",
      "_________________________________________________________________\n",
      "dense_1 (Dense)              (None, 16)                528       \n",
      "_________________________________________________________________\n",
      "dense_2 (Dense)              (None, 6)                 102       \n",
      "=================================================================\n",
      "Total params: 2,029,206\n",
      "Trainable params: 2,029,206\n",
      "Non-trainable params: 0\n",
      "_________________________________________________________________\n"
     ]
    }
   ],
   "source": [
    "\n",
    "model = Sequential()\n",
    "model.add(Embedding(vocab_max, 100, input_length=max_comment_length))\n",
    "model.add(Dropout(0.2))\n",
    "model.add(Conv1D(filters=64, kernel_size=3, padding='same', activation='relu'))\n",
    "model.add(MaxPooling1D(pool_size=2))\n",
    "model.add(GRU(units=32))\n",
    "model.add(Dense(16, activation='relu'))\n",
    "model.add(Dense(len(labels), activation='sigmoid'))\n",
    "model.compile(\n",
    "    optimizer='adam', \n",
    "    loss='binary_crossentropy', \n",
    "    metrics=['accuracy']\n",
    ")\n",
    "model.summary()"
   ]
  },
  {
   "cell_type": "markdown",
   "metadata": {
    "colab_type": "text",
    "id": "1S6kDCqDFGUN"
   },
   "source": [
    "Now training the model."
   ]
  },
  {
   "cell_type": "code",
   "execution_count": 6,
   "metadata": {
    "colab": {
     "autoexec": {
      "startup": false,
      "wait_interval": 0
     },
     "base_uri": "https://localhost:8080/",
     "height": 122,
     "output_extras": [
      {
       "item_id": 373
      },
      {
       "item_id": 1155
      },
      {
       "item_id": 1418
      },
      {
       "item_id": 2339
      },
      {
       "item_id": 2340
      }
     ]
    },
    "colab_type": "code",
    "executionInfo": {
     "elapsed": 630277,
     "status": "ok",
     "timestamp": 1518571329571,
     "user": {
      "displayName": "Chuan Li",
      "photoUrl": "//lh3.googleusercontent.com/-ry1V_A03qTg/AAAAAAAAAAI/AAAAAAAAAh4/Ea41Em8n49A/s50-c-k-no/photo.jpg",
      "userId": "106476928809257656982"
     },
     "user_tz": 480
    },
    "id": "QVU9nuDzFtlf",
    "outputId": "e0ea2b97-fe62-42bf-a1b2-46c7d5f08532"
   },
   "outputs": [
    {
     "name": "stdout",
     "output_type": "stream",
     "text": [
      "Train on 127656 samples, validate on 31915 samples\n",
      "Epoch 1/2\n",
      "127656/127656 [==============================] - 165s 1ms/step - loss: 0.0698 - acc: 0.9758 - val_loss: 0.0498 - val_acc: 0.9821\n",
      "Epoch 2/2\n",
      "127656/127656 [==============================] - 169s 1ms/step - loss: 0.0444 - acc: 0.9833 - val_loss: 0.0490 - val_acc: 0.9819\n"
     ]
    }
   ],
   "source": [
    "epochs = 2\n",
    "batch_size = 64\n",
    "\n",
    "history = model.fit(\n",
    "    Xtr, Ytr, \n",
    "    epochs=epochs, \n",
    "    batch_size=batch_size,\n",
    "    validation_data=(Xva, Yva)\n",
    ")"
   ]
  },
  {
   "cell_type": "markdown",
   "metadata": {
    "colab_type": "text",
    "id": "nAFiq9QuFI7R"
   },
   "source": [
    "Making prediction on the validation set."
   ]
  },
  {
   "cell_type": "code",
   "execution_count": 7,
   "metadata": {
    "colab": {
     "autoexec": {
      "startup": false,
      "wait_interval": 0
     },
     "base_uri": "https://localhost:8080/",
     "height": 34,
     "output_extras": [
      {
       "item_id": 1
      }
     ]
    },
    "colab_type": "code",
    "executionInfo": {
     "elapsed": 121,
     "status": "ok",
     "timestamp": 1518571356080,
     "user": {
      "displayName": "Chuan Li",
      "photoUrl": "//lh3.googleusercontent.com/-ry1V_A03qTg/AAAAAAAAAAI/AAAAAAAAAh4/Ea41Em8n49A/s50-c-k-no/photo.jpg",
      "userId": "106476928809257656982"
     },
     "user_tz": 480
    },
    "id": "hgiIMLjZE3Rr",
    "outputId": "f00c0add-a7ab-43f7-b75d-c47a54e12890"
   },
   "outputs": [
    {
     "name": "stdout",
     "output_type": "stream",
     "text": [
      "Done\n"
     ]
    }
   ],
   "source": [
    "hint(\"Making prediction...\")\n",
    "Yva_ = model.predict(Xva)\n",
    "hint(\"Done\")"
   ]
  },
  {
   "cell_type": "markdown",
   "metadata": {
    "colab_type": "text",
    "id": "RfRNkLv7v04I"
   },
   "source": [
    "# 4. Result Analysis\n",
    "## 4.1 Global Accuracy"
   ]
  },
  {
   "cell_type": "code",
   "execution_count": 8,
   "metadata": {
    "colab": {
     "autoexec": {
      "startup": false,
      "wait_interval": 0
     },
     "base_uri": "https://localhost:8080/",
     "height": 255,
     "output_extras": [
      {
       "item_id": 1
      }
     ]
    },
    "colab_type": "code",
    "executionInfo": {
     "elapsed": 275,
     "status": "ok",
     "timestamp": 1518571356419,
     "user": {
      "displayName": "Chuan Li",
      "photoUrl": "//lh3.googleusercontent.com/-ry1V_A03qTg/AAAAAAAAAAI/AAAAAAAAAh4/Ea41Em8n49A/s50-c-k-no/photo.jpg",
      "userId": "106476928809257656982"
     },
     "user_tz": 480
    },
    "id": "vakvDUO31-oo",
    "outputId": "5b7acf10-a987-41f7-801c-0f291245b687"
   },
   "outputs": [
    {
     "name": "stdout",
     "output_type": "stream",
     "text": [
      "validation set sample count: 31915\n",
      "\n",
      "accuracy for threshold 0.1: 96.56%\n",
      "accuracy for threshold 0.2: 97.60%\n",
      "accuracy for threshold 0.3: 97.99%\n",
      "accuracy for threshold 0.4: 98.14%\n",
      "accuracy for threshold 0.5: 98.19%\n",
      "accuracy for threshold 0.6: 98.21%\n",
      "accuracy for threshold 0.7: 98.20%\n",
      "accuracy for threshold 0.8: 98.12%\n",
      "accuracy for threshold 0.9: 97.83%\n",
      "\n",
      "best threshold: 0.6\n",
      "best accuracy: 98.21%\n"
     ]
    }
   ],
   "source": [
    "total_sample = Xva.shape[0]\n",
    "print(\"validation set sample count: %d\\n\" % total_sample)\n",
    "prediction_total = total_sample*Yva.shape[1]\n",
    "best_t = None\n",
    "best_accuracy = 0\n",
    "for t in [i*0.1 for i in range(1, 10)]:\n",
    "    accuracy = np.sum(Yva == (Yva_ >= t))/prediction_total\n",
    "    if accuracy > best_accuracy: \n",
    "        best_t = t\n",
    "        best_accuracy = accuracy\n",
    "    print(\"accuracy for threshold %.1f: %.2f%%\" % (t, accuracy*100))\n",
    "Yva_T = Yva_ >= best_t\n",
    "correct = Yva == Yva_T\n",
    "print(\"\\nbest threshold: %.1f\" % best_t)\n",
    "print(\"best accuracy: %.2f%%\" % (best_accuracy*100))"
   ]
  },
  {
   "cell_type": "markdown",
   "metadata": {
    "colab_type": "text",
    "id": "YSptfDNc58dZ"
   },
   "source": [
    "## 4.2 Accuracy by Classes"
   ]
  },
  {
   "cell_type": "code",
   "execution_count": 9,
   "metadata": {
    "colab": {
     "autoexec": {
      "startup": false,
      "wait_interval": 0
     }
    },
    "colab_type": "code",
    "id": "gLRH9AayowXA"
   },
   "outputs": [],
   "source": [
    "overview = pd.DataFrame(index=[\n",
    "    'label‰ of all',\n",
    "    'total wrong', \n",
    "    'P->N', \n",
    "    'N->P', \n",
    "    'P->N %', \n",
    "    'N->P %'\n",
    "])\n",
    "\n",
    "def analyze_class(i):\n",
    "    wrong_toxic = valid[correct[:, i] != 1]\n",
    "    total_toxic_class_error = len(wrong_toxic)\n",
    "    print(\"%d predicted incorrectly (%.2f%% of all samples)\" % (\n",
    "        total_toxic_class_error, \n",
    "        100*total_toxic_class_error/total_sample\n",
    "    ))\n",
    "\n",
    "    PpN = valid[(Yva[:, i] == 1) & (Yva_T[:, i] == 0)]\n",
    "    PpN_count = len(PpN)\n",
    "    print(\"\\n%d (%.2f%%) positive label were predicted to be negative\" % (\n",
    "        PpN_count, \n",
    "        100*PpN_count/total_toxic_class_error \n",
    "    ))\n",
    "    if PpN_count > 4:\n",
    "        print(\"Samples:\")\n",
    "    for sample in PpN.sample(5)['comment_text']:\n",
    "        display(sample)\n",
    "  \n",
    "    NpP = valid[(Yva[:, i] == 0) & (Yva_T[:, i] == 1)]\n",
    "    NpP_count = len(NpP)\n",
    "    print(\"\\n%d (%.2f%%) negative label were predicted to be positive\" % (\n",
    "        NpP_count, \n",
    "        100*NpP_count/total_toxic_class_error \n",
    "    ))\n",
    "    if NpP_count > 4:\n",
    "        print(\"Samples:\")\n",
    "    for sample in NpP.sample(5)['comment_text']:\n",
    "        display(sample)\n",
    "  \n",
    "    overview[labels[i]] = [\n",
    "        np.mean(Yva[:, i]*1000),\n",
    "        total_toxic_class_error, \n",
    "        PpN_count,  \n",
    "        NpP_count,\n",
    "        100*PpN_count/total_toxic_class_error,\n",
    "        100*NpP_count/total_toxic_class_error\n",
    "    ]\n",
    "  \n",
    "    print('\\n')\n",
    "  "
   ]
  },
  {
   "cell_type": "markdown",
   "metadata": {
    "colab_type": "text",
    "id": "SSY9H7knpE5U"
   },
   "source": [
    "### 4.2.1 Toxic"
   ]
  },
  {
   "cell_type": "code",
   "execution_count": 10,
   "metadata": {
    "colab": {
     "autoexec": {
      "startup": false,
      "wait_interval": 0
     },
     "base_uri": "https://localhost:8080/",
     "height": 360,
     "output_extras": [
      {
       "item_id": 1
      },
      {
       "item_id": 2
      },
      {
       "item_id": 3
      },
      {
       "item_id": 4
      },
      {
       "item_id": 5
      },
      {
       "item_id": 6
      },
      {
       "item_id": 7
      },
      {
       "item_id": 8
      },
      {
       "item_id": 9
      },
      {
       "item_id": 10
      },
      {
       "item_id": 11
      },
      {
       "item_id": 12
      },
      {
       "item_id": 13
      }
     ]
    },
    "colab_type": "code",
    "executionInfo": {
     "elapsed": 251,
     "status": "ok",
     "timestamp": 1518573461778,
     "user": {
      "displayName": "Chuan Li",
      "photoUrl": "//lh3.googleusercontent.com/-ry1V_A03qTg/AAAAAAAAAAI/AAAAAAAAAh4/Ea41Em8n49A/s50-c-k-no/photo.jpg",
      "userId": "106476928809257656982"
     },
     "user_tz": 480
    },
    "id": "NNGw690DpLMy",
    "outputId": "18e4b55e-63d1-42b2-9c93-4b75a8d5ad39"
   },
   "outputs": [
    {
     "name": "stdout",
     "output_type": "stream",
     "text": [
      "1209 predicted incorrectly (3.79% of all samples)\n",
      "\n",
      "851 (70.39%) positive label were predicted to be negative\n",
      "Samples:\n"
     ]
    },
    {
     "data": {
      "text/plain": [
       "\". If you care so much about alternative revisionist views, why don't you go to Holocaust article and attempt to spread Nazi propaganda there? You think that Jews care about alternative revisionist denials? You think that Tutsis in Rwanda care about alternative revisionist denials? You think that Bosniaks care about alternative revisionist denials? We all care about the facts, cold hard neutral facts, not alternative leftist-revisionist views. Maybe wikipedia is not for you? You are not succeeding here, because you can't force people to accept your revisionist view of Srebrenica massacre\""
      ]
     },
     "metadata": {},
     "output_type": "display_data"
    },
    {
     "data": {
      "text/plain": [
       "'AbcMonster\\ni give you everything you ever need cuz im abc monster i do what ever i want if u wanna no y cuz im abcmonster i trooled wikipedia you can stop me cuz im abcmonster MONSTER!'"
      ]
     },
     "metadata": {},
     "output_type": "display_data"
    },
    {
     "data": {
      "text/plain": [
       "'\"\\n\\n ................ \\n\\naww looks like someone forgot 2 say please\\n\\nand just who the hell are you\\n\\nprobably just some \"\"REGULAR USAR\"\" doing a \"\"good\"\" deed\\n\\n \"'"
      ]
     },
     "metadata": {},
     "output_type": "display_data"
    },
    {
     "data": {
      "text/plain": [
       "\"I'M NOT JOE, JUST SOME ONE, ONE OF MANY, WITH HISTOY WITH MR ELEEMOSYNARY... YOU CLOWNS ASSUME SOCK IN EVER PACKET OF IP TRAFFIC NOW A DAYS... WHAT A BUNCH OF NUTCASES..\""
      ]
     },
     "metadata": {},
     "output_type": "display_data"
    },
    {
     "data": {
      "text/plain": [
       "'\"\\nYour donation will fund Wikia, Inc., which is not a charity. Your non-profit donation will ultimately line the for-profit pockets of Jimmy Wales, Amazon, Google, the Bessemer Partners, and other corporate beneficiaries. How? Wikipedia is a commercial traffic engine. As of December 2008, there are over 14,700 external links from Wikipedia to Wales\\' Wikia.com sites, which are funded by Google AdSense revenues. Did you know that Amazon invested $10,000,000 in the for-profit Wikia venture? It\\'s therefore rather interesting that there are over 43,000 links to Amazon\\'s retail site from the supposedly non-profit Wikipedia site. Isn\\'t it? Meanwhile, did you know that the popular movie site IMDB.com is owned by Amazon, and you can buy Amazon products directly from IMDB pages? Well, surprise surprise  there are nearly 174,000 links to Amazon\\'s IMDB site from Wikipedia. No wonder Amazon particularly wished to invest in Wikia, Inc. Its co-founder makes sure that the external linking environment on Wikipedia is hospitable for the Amazon link spamming machine! \\n\\nNow here is the really fascinating thing. If you go to Jimmy Wales\\' \"\"talk page\"\" on Wikipedia, and you ask him whether he feels that this obscene number of links to his for-profit site and those of his investors might be a conflict of interest or self-dealing, Jimbo won\\'t even have time to respond. One or two of his sycophants will fairly promptly dismiss or erase your message; and if you try one more time to ask this question, you\\'re likely to get blocked from editing Wikipedia altogether. Go ahead, try it\\n\\nTRUTH HURTS GUYS TRY THINKING WITH YOUR BRAIN INSTEAD OF FOLLOWING LIKE AN SHEEP, KEEP CHECKING ALL SITES FOR THE ABOVE TEXT PROXYS NEXT -)\"'"
      ]
     },
     "metadata": {},
     "output_type": "display_data"
    },
    {
     "name": "stdout",
     "output_type": "stream",
     "text": [
      "\n",
      "358 (29.61%) negative label were predicted to be positive\n",
      "Samples:\n"
     ]
    },
    {
     "data": {
      "text/plain": [
       "'truth you dont dare to'"
      ]
     },
     "metadata": {},
     "output_type": "display_data"
    },
    {
     "data": {
      "text/plain": [
       "'a football player because of his quickness as a child. Unfortunatly, he died of throat cancer. His mother could not find a job in the urban area, so he moved'"
      ]
     },
     "metadata": {},
     "output_type": "display_data"
    },
    {
     "data": {
      "text/plain": [
       "'A child name Ohnoitsjamie - a childish user name if ever there was has blocked my informative additions yet quite happiy allow Corbetts fellatio post.'"
      ]
     },
     "metadata": {},
     "output_type": "display_data"
    },
    {
     "data": {
      "text/plain": [
       "\"lol no I meant its a shame its not in common. I have a lot of gay friends so you don't need to worry that I am against gays:)\\n\\nIn terms of the AFC article I can promise I wont repeat myself but if I have an advancing argument or need to respond to someone who is clearly wrong then I will do so but in a polite manner only. How about I ask you before I post something to it and if you agree I will? The problem with this though is that I am up at stupid hours and so you won't be up.\\n\\nOk I'll look for a mentor - can you be a mentor since I don't know anyone else on Wikipedia lol?\\n\\nHere is my apology to the users: I apologize for seeming rude earlier. Sometimes frustration gets the better of me and I shouldn't of made those ad hominem remarks. They certainly won't happen again. Have a great day!\\n\\nThanksCraddock1\""
      ]
     },
     "metadata": {},
     "output_type": "display_data"
    },
    {
     "data": {
      "text/plain": [
       "'ho ho ho yo \\n\\nSo why dont you actually contribute something to wikipedia yourself instead of checking, controlling and constantly reading what others are doing?? You dont have the intellectual capacity or the depth, huh? Or do you simply lack a life so much that virtual vandal patrolling is the most interesting thing that you do during the day??!! In either case, do know that I will be praying for you and your poor soul...'"
      ]
     },
     "metadata": {},
     "output_type": "display_data"
    },
    {
     "name": "stdout",
     "output_type": "stream",
     "text": [
      "\n",
      "\n"
     ]
    }
   ],
   "source": [
    "analyze_class(0)"
   ]
  },
  {
   "cell_type": "markdown",
   "metadata": {
    "colab_type": "text",
    "id": "3cxSNKFepEg1"
   },
   "source": [
    "### 4.2.2 Severe Toxic"
   ]
  },
  {
   "cell_type": "code",
   "execution_count": 11,
   "metadata": {
    "colab": {
     "autoexec": {
      "startup": false,
      "wait_interval": 0
     },
     "base_uri": "https://localhost:8080/",
     "height": 360,
     "output_extras": [
      {
       "item_id": 1
      },
      {
       "item_id": 2
      },
      {
       "item_id": 3
      },
      {
       "item_id": 4
      },
      {
       "item_id": 5
      },
      {
       "item_id": 6
      },
      {
       "item_id": 7
      },
      {
       "item_id": 8
      },
      {
       "item_id": 9
      },
      {
       "item_id": 10
      },
      {
       "item_id": 11
      },
      {
       "item_id": 12
      },
      {
       "item_id": 13
      }
     ]
    },
    "colab_type": "code",
    "executionInfo": {
     "elapsed": 254,
     "status": "ok",
     "timestamp": 1518573463811,
     "user": {
      "displayName": "Chuan Li",
      "photoUrl": "//lh3.googleusercontent.com/-ry1V_A03qTg/AAAAAAAAAAI/AAAAAAAAAh4/Ea41Em8n49A/s50-c-k-no/photo.jpg",
      "userId": "106476928809257656982"
     },
     "user_tz": 480
    },
    "id": "1cCGMbZKpV1H",
    "outputId": "428d69ea-64a9-4f28-e09c-f9ddd6d7516c"
   },
   "outputs": [
    {
     "name": "stdout",
     "output_type": "stream",
     "text": [
      "327 predicted incorrectly (1.02% of all samples)\n",
      "\n",
      "317 (96.94%) positive label were predicted to be negative\n",
      "Samples:\n"
     ]
    },
    {
     "data": {
      "text/plain": [
       "'Hi \\n\\nFuck you, Faggot.'"
      ]
     },
     "metadata": {},
     "output_type": "display_data"
    },
    {
     "data": {
      "text/plain": [
       "\"Go fuk your mom you fukin faggot.  I'll commit vandalizim on your page all fukin day long, and you'll like it you fuking quer.\\n\\nOh... and trace my IP.  It'll come back to a wireless network shared by a lot of peple.  Good luck wid dat you quer fuking homo.  You got damn dog rapist.\""
      ]
     },
     "metadata": {},
     "output_type": "display_data"
    },
    {
     "data": {
      "text/plain": [
       "\"LGBT \\n\\nyou little fuck , are you a fag , that piece of shit page is making fucked up claims about Islam , and most of it is not certified , how do you allow this on the site . claims such as that mehmet the conqueror was a fag , i swear if i know who wrote this i'll kill him/her.\""
      ]
     },
     "metadata": {},
     "output_type": "display_data"
    },
    {
     "data": {
      "text/plain": [
       "'and sticking your man cock in my ass'"
      ]
     },
     "metadata": {},
     "output_type": "display_data"
    },
    {
     "data": {
      "text/plain": [
       "'Fuck Off \\n\\nFuck Off Slanteye!'"
      ]
     },
     "metadata": {},
     "output_type": "display_data"
    },
    {
     "name": "stdout",
     "output_type": "stream",
     "text": [
      "\n",
      "10 (3.06%) negative label were predicted to be positive\n",
      "Samples:\n"
     ]
    },
    {
     "data": {
      "text/plain": [
       "'congratualtions on being such a huge fucking asshole!!! Bongwarriorcongratualtions on being such a huge fucking asshole!!! Bongwarriorcongratualtions on being such a huge fucking asshole!!! Bongwarriorcongratualtions on being such a huge fucking asshole!!! Bongwarriorcongratualtions on being such a huge fucking asshole!!! Bongwarriorcongratualtions on being such a huge fucking asshole!!! Bongwarriorcongratualtions on being such a huge fucking asshole!!! Bongwarriorcongratualtions on being such a huge fucking asshole!!! Bongwarriorcongratualtions on being such a huge fucking asshole!!! Bongwarriorcongratualtions on being such a huge fucking asshole!!! Bongwarriorcongratualtions on being such a huge fucking asshole!!! Bongwarriorcongratualtions on being such a huge fucking asshole!!! Bongwarriorcongratualtions on being such a huge fucking asshole!!! Bongwarriorcongratualtions on being such a huge fucking asshole!!! Bongwarriorcongratualtions on being such a huge fucking asshole!!! Bongwarriorcongratualtions on being such a huge fucking asshole!!! Bongwarriorcongratualtions on being such a huge fucking asshole!!! Bongwarriorcongratualtions on being such a huge fucking asshole!!! Bongwarriorcongratualtions on being such a huge fucking asshole!!! Bongwarriorcongratualtions on being such a huge fucking asshole!!! Bongwarriorcongratualtions on being such a huge fucking asshole!!! Bongwarriorcongratualtions on being such a huge fucking asshole!!! Bongwarriorcongratualtions on being such a huge fucking asshole!!! Bongwarriorcongratualtions on being such a huge fucking asshole!!! Bongwarriorcongratualtions on being such a huge fucking asshole!!! Bongwarriorcongratualtions on being such a huge fucking asshole!!! Bongwarriorcongratualtions on being such a huge fucking asshole!!! Bongwarriorcongratualtions on being such a huge fucking asshole!!! Bongwarriorcongratualtions on being such a huge fucking asshole!!! Bongwarriorcongratualtions on being such a huge fucking asshole!!! Bongwarriorcongratualtions on being such a huge fucking asshole!!! Bongwarriorcongratualtions on being such a huge fucking asshole!!! Bongwarriorcongratualtions on being such a huge fucking asshole!!! Bongwarriorcongratualtions on being such a huge fucking asshole!!! Bongwarriorcongratualtions on being such a huge fucking asshole!!! Bongwarriorcongratualtions on being such a huge fucking asshole!!! Bongwarriorcongratualtions on being such a huge fucking asshole!!! Bongwarriorcongratualtions on being such a huge fucking asshole!!! Bongwarriorcongratualtions on being such a huge fucking asshole!!! Bongwarriorcongratualtions on being such a huge fucking asshole!!! Bongwarriorcongratualtions on being such a huge fucking asshole!!! Bongwarriorcongratualtions on being such a huge fucking asshole!!! Bongwarriorcongratualtions on being such a huge fucking asshole!!! Bongwarriorcongratualtions on being such a huge fucking asshole!!! Bongwarriorcongratualtions on being such a huge fucking asshole!!! Bongwarriorcongratualtions on being such a huge fucking asshole!!! Bongwarriorcongratualtions on being such a huge fucking asshole!!! Bongwarriorcongratualtions on being such a huge fucking asshole!!! Bongwarriorcongratualtions on being such a huge fucking asshole!!! Bongwarriorcongratualtions on being such a huge fucking asshole!!! Bongwarriorcongratualtions on being such a huge fucking asshole!!! Bongwarriorcongratualtions on being such a huge fucking asshole!!! Bongwarriorcongratualtions on being such a huge fucking asshole!!! Bongwarriorcongratualtions on being such a huge fucking asshole!!! Bongwarriorcongratualtions on being such a huge fucking asshole!!! Bongwarriorcongratualtions on being such a huge fucking asshole!!! Bongwarriorcongratualtions on being such a huge fucking asshole!!! Bongwarriorcongratualtions on being such a huge fucking asshole!!! Bongwarriorcongratualtions on being such a huge fucking asshole!!! Bongwarriorcongratualtions on being such a huge fucking asshole!!! Bongwarriorcongratualtions on being such a huge fucking asshole!!! Bongwarriorcongratualtions on being such a huge fucking asshole!!! Bongwarriorcongratualtions on being such a huge fucking asshole!!! Bongwarriorcongratualtions on being such a huge fucking asshole!!! Bongwarriorcongratualtions on being such a huge fucking asshole!!! Bongwarriorcongratualtions on being such a huge fucking asshole!!! Bongwarriorcongratualtions on being such a huge fucking asshole!!! Bongwarriorcongratualtions on being such a huge fucking asshole!!! Bongwarriorcongratualtions on being such a huge fucking asshole!!! Bongwarriorcongratualtions on being such a huge fucking asshole!!! Bongwarriorcongratualtions on being such a huge fucking asshole!!! Bongwarriorcongratualtions on being such a huge fucking asshole!!! Bongwarriorcongratualtions on being such a huge fucking asshole!!! Bongwarriorcongratualtions on being such a huge fucking asshole!!! Bongwarriorcongratualtions on being such a huge fucki'"
      ]
     },
     "metadata": {},
     "output_type": "display_data"
    },
    {
     "data": {
      "text/plain": [
       "'NIGGER NIGGER NIGGER NIGGER NIGGER NIGGER NIGGER NIGGER NIGGER NIGGER NIGGER NIGGER NIGGER NIGGER NIGGER NIGGER NIGGER NIGGER NIGGER NIGGER NIGGER NIGGER NIGGER NIGGER NIGGER NIGGER NIGGER NIGGER NIGGER NIGGER NIGGER NIGGER NIGGER NIGGER NIGGER NIGGER NIGGER NIGGER NIGGER NIGGER NIGGER NIGGER NIGGER NIGGER NIGGER NIGGER NIGGER NIGGER NIGGER NIGGER NIGGER NIGGER NIGGER NIGGER NIGGER NIGGER NIGGER NIGGER NIGGER NIGGER NIGGER NIGGER NIGGER NIGGER NIGGER NIGGER NIGGER NIGGER NIGGER NIGGER NIGGER NIGGER NIGGER NIGGER NIGGER NIGGER NIGGER NIGGER NIGGER NIGGER NIGGER NIGGER NIGGER NIGGER NIGGER NIGGER NIGGER NIGGER NIGGER NIGGER NIGGER NIGGER NIGGER NIGGER NIGGER NIGGER NIGGER NIGGER NIGGER NIGGER NIGGER NIGGER NIGGER NIGGER NIGGER NIGGER NIGGER NIGGER NIGGER NIGGER NIGGER NIGGER NIGGER NIGGER NIGGER NIGGER NIGGER NIGGER NIGGER NIGGER NIGGER NIGGER NIGGER NIGGER NIGGER NIGGER NIGGER NIGGER NIGGER NIGGER NIGGER NIGGER NIGGER NIGGER NIGGER NIGGER NIGGER NIGGER NIGGER NIGGER NIGGER NIGGER NIGGER NIGGER NIGGER NIGGER NIGGER NIGGER NIGGER NIGGER NIGGER NIGGER NIGGER NIGGER NIGGER NIGGER NIGGER NIGGER NIGGER NIGGER NIGGER NIGGER NIGGER NIGGER NIGGER NIGGER NIGGER NIGGER NIGGER NIGGER NIGGER NIGGER NIGGER NIGGER NIGGER NIGGER NIGGER NIGGER NIGGER NIGGER NIGGER NIGGER'"
      ]
     },
     "metadata": {},
     "output_type": "display_data"
    },
    {
     "data": {
      "text/plain": [
       "'Notrhbysouthbanof sucks cocks \\nNotrhbysouthbanof sucks cocks \\nNotrhbysouthbanof sucks cocks \\nNotrhbysouthbanof sucks cocks \\nNotrhbysouthbanof sucks cocks \\nNotrhbysouthbanof sucks cocks \\nNotrhbysouthbanof sucks cocks \\nNotrhbysouthbanof sucks cocks \\nNotrhbysouthbanof sucks cocks \\nNotrhbysouthbanof sucks cocks \\nNotrhbysouthbanof sucks cocks \\nNotrhbysouthbanof sucks cocks \\nNotrhbysouthbanof sucks cocks \\nNotrhbysouthbanof sucks cocks \\nNotrhbysouthbanof sucks cocks \\nNotrhbysouthbanof sucks cocks \\nNotrhbysouthbanof sucks cocks \\nNotrhbysouthbanof sucks cocks \\nNotrhbysouthbanof sucks cocks \\nNotrhbysouthbanof sucks cocks \\n\\nAnthony Bradbury sucks cock and eats shit, Notrhbysouthbanof sucks cocks \\nNotrhbysouthbanof sucks cocks \\nNotrhbysouthbanof sucks cocks \\nNotrhbysouthbanof sucks cocks \\nNotrhbysouthbanof sucks cocks \\nNotrhbysouthbanof sucks cocks \\nNotrhbysouthbanof sucks cocks \\nNotrhbysouthbanof sucks cocks \\nNotrhbysouthbanof sucks cocks \\nNotrhbysouthbanof sucks cocks \\nNotrhbysouthbanof sucks cocks \\nNotrhbysouthbanof sucks cocks \\nNotrhbysouthbanof sucks cocks \\nNotrhbysouthbanof sucks cocks \\nNotrhbysouthbanof sucks cocks \\nNotrhbysouthbanof sucks cocks \\nNotrhbysouthbanof sucks cocks \\nNotrhbysouthbanof sucks cocks \\nNotrhbysouthbanof sucks cocks \\nNotrhbysouthbanof sucks cocks \\n\\nAnthony Bradbury sucks cock and eats shit, Notrhbysouthbanof sucks cocks \\nNotrhbysouthbanof sucks cocks \\nNotrhbysouthbanof sucks cocks \\nNotrhbysouthbanof sucks cocks \\nNotrhbysouthbanof sucks cocks \\nNotrhbysouthbanof sucks cocks \\nNotrhbysouthbanof sucks cocks \\nNotrhbysouthbanof sucks cocks \\nNotrhbysouthbanof sucks cocks \\nNotrhbysouthbanof sucks cocks \\nNotrhbysouthbanof sucks cocks \\nNotrhbysouthbanof sucks cocks \\nNotrhbysouthbanof sucks cocks \\nNotrhbysouthbanof sucks cocks \\nNotrhbysouthbanof sucks cocks \\nNotrhbysouthbanof sucks cocks \\nNotrhbysouthbanof sucks cocks \\nNotrhbysouthbanof sucks cocks \\nNotrhbysouthbanof sucks cocks \\nNotrhbysouthbanof sucks cocks \\n\\nAnthony Bradbury sucks cock and eats shit, Notrhbysouthbanof sucks cocks \\nNotrhbysouthbanof sucks cocks \\nNotrhbysouthbanof sucks cocks \\nNotrhbysouthbanof sucks cocks \\nNotrhbysouthbanof sucks cocks \\nNotrhbysouthbanof sucks cocks \\nNotrhbysouthbanof sucks cocks \\nNotrhbysouthbanof sucks cocks \\nNotrhbysouthbanof sucks cocks \\nNotrhbysouthbanof sucks cocks \\nNotrhbysouthbanof sucks cocks \\nNotrhbysouthbanof sucks cocks \\nNotrhbysouthbanof sucks cocks \\nNotrhbysouthbanof sucks cocks \\nNotrhbysouthbanof sucks cocks \\nNotrhbysouthbanof sucks cocks \\nNotrhbysouthbanof sucks cocks \\nNotrhbysouthbanof sucks cocks \\nNotrhbysouthbanof sucks cocks \\nNotrhbysouthbanof sucks cocks \\n\\nAnthony Bradbury sucks cock and eats shit,'"
      ]
     },
     "metadata": {},
     "output_type": "display_data"
    },
    {
     "data": {
      "text/plain": [
       "'supertall fag\\nfag fag fag fag fag fag fag fag fag fag fag fag fag fag fag fag fag fag fag fag fag fag fag fag fag fag fag fag fag fag fag fag fag fag fag fag fag fag fag fag fag fag fag fag fag fag fag fag fag fag fag fag fag fag fag fag fag fag fag fag fag fag fag fag fag fag fag fag fag fag fag fag fag fag fag fag fag fag fag fag fag fag fag fag fag fag fag fag fag fag fag fag fag fag fag fag fag fag fag fag fag fag fag fag fag fag fag fag fag fag fag fag fag fag fag fag fag fag fag fag fag fag fag fag fag fag fag fag fag fag fag fag fag fag fag fag fag fag fag fag fag fag fag fag fag fag fag fag fag fag fag fag fag fag fag fag fag'"
      ]
     },
     "metadata": {},
     "output_type": "display_data"
    },
    {
     "data": {
      "text/plain": [
       "\"CURPS YOU MOTHER FUCKER DON'T FUCKING BAN ME PENIS! CURPS YOU MOTHER FUCKER DON'T FUCKING BAN ME PENIS! CURPS YOU MOTHER FUCKER DON'T FUCKING BAN ME PENIS! CURPS YOU MOTHER FUCKER DON'T FUCKING BAN ME PENIS! CURPS YOU MOTHER FUCKER DON'T FUCKING BAN ME PENIS! CURPS YOU MOTHER FUCKER DON'T FUCKING BAN ME PENIS! CURPS YOU MOTHER FUCKER DON'T FUCKING BAN ME PENIS! CURPS YOU MOTHER FUCKER DON'T FUCKING BAN ME PENIS! CURPS YOU MOTHER FUCKER DON'T FUCKING BAN ME PENIS! CURPS YOU MOTHER FUCKER DON'T FUCKING BAN ME PENIS! CURPS YOU MOTHER FUCKER DON'T FUCKING BAN ME PENIS! CURPS YOU MOTHER FUCKER DON'T FUCKING BAN ME PENIS! CURPS YOU MOTHER FUCKER DON'T FUCKING BAN ME PENIS! CURPS YOU MOTHER FUCKER DON'T FUCKING BAN ME PENIS! CURPS YOU MOTHER FUCKER DON'T FUCKING BAN ME PENIS! CURPS YOU MOTHER FUCKER DON'T FUCKING BAN ME PENIS! CURPS YOU MOTHER FUCKER DON'T FUCKING BAN ME PENIS! CURPS YOU MOTHER FUCKER DON'T FUCKING BAN ME PENIS! CURPS YOU MOTHER FUCKER DON'T FUCKING BAN ME PENIS! CURPS YOU MOTHER FUCKER DON'T FUCKING BAN ME PENIS! CURPS YOU MOTHER FUCKER DON'T FUCKING BAN ME PENIS! CURPS YOU MOTHER FUCKER DON'T FUCKING BAN ME PENIS! CURPS YOU MOTHER FUCKER DON'T FUCKING BAN ME PENIS! CURPS YOU MOTHER FUCKER DON'T FUCKING BAN ME PENIS! CURPS YOU MOTHER FUCKER DON'T FUCKING BAN ME PENIS! CURPS YOU MOTHER FUCKER DON'T FUCKING BAN ME PENIS! CURPS YOU MOTHER FUCKER DON'T FUCKING BAN ME PENIS! CURPS YOU MOTHER FUCKER DON'T FUCKING BAN ME PENIS! CURPS YOU MOTHER FUCKER DON'T FUCKING BAN ME PENIS! CURPS YOU MOTHER FUCKER DON'T FUCKING BAN ME PENIS! CURPS YOU MOTHER FUCKER DON'T FUCKING BAN ME PENIS! CURPS YOU MOTHER FUCKER DON'T FUCKING BAN ME PENIS!\""
      ]
     },
     "metadata": {},
     "output_type": "display_data"
    },
    {
     "name": "stdout",
     "output_type": "stream",
     "text": [
      "\n",
      "\n"
     ]
    }
   ],
   "source": [
    "analyze_class(1)"
   ]
  },
  {
   "cell_type": "markdown",
   "metadata": {
    "colab_type": "text",
    "id": "s0_zIe7m1A79"
   },
   "source": [
    "### 4.2.3 Obscene"
   ]
  },
  {
   "cell_type": "code",
   "execution_count": 12,
   "metadata": {
    "colab": {
     "autoexec": {
      "startup": false,
      "wait_interval": 0
     },
     "base_uri": "https://localhost:8080/",
     "height": 360,
     "output_extras": [
      {
       "item_id": 1
      },
      {
       "item_id": 2
      },
      {
       "item_id": 3
      },
      {
       "item_id": 4
      },
      {
       "item_id": 5
      },
      {
       "item_id": 6
      },
      {
       "item_id": 7
      },
      {
       "item_id": 8
      },
      {
       "item_id": 9
      },
      {
       "item_id": 10
      },
      {
       "item_id": 11
      },
      {
       "item_id": 12
      },
      {
       "item_id": 13
      }
     ]
    },
    "colab_type": "code",
    "executionInfo": {
     "elapsed": 258,
     "status": "ok",
     "timestamp": 1518573465290,
     "user": {
      "displayName": "Chuan Li",
      "photoUrl": "//lh3.googleusercontent.com/-ry1V_A03qTg/AAAAAAAAAAI/AAAAAAAAAh4/Ea41Em8n49A/s50-c-k-no/photo.jpg",
      "userId": "106476928809257656982"
     },
     "user_tz": 480
    },
    "id": "Qt9vOoNK1EFl",
    "outputId": "cfeec26f-71ad-4668-840e-c183a862ba74"
   },
   "outputs": [
    {
     "name": "stdout",
     "output_type": "stream",
     "text": [
      "623 predicted incorrectly (1.95% of all samples)\n",
      "\n",
      "383 (61.48%) positive label were predicted to be negative\n",
      "Samples:\n"
     ]
    },
    {
     "data": {
      "text/plain": [
       "'\" \\n\\nApostle12, much agreement about the pointless of \"\"Fuck the Police\"\" as a rallying cry.  \\nIn posting here, just remember we here are not Occupy Oakland, we\\'re not affiliated with them, we\\'re not necessarily supporters of them.  We\\'re Wikipedia an independent media agency.   We\\'re trying to document, we\\'re not trying to support. \\nCriticisms for the OccupyOakland should be sent to them by email or social media.    We\\'re not them, and I don\\'t think they check this page. )    \"'"
      ]
     },
     "metadata": {},
     "output_type": "display_data"
    },
    {
     "data": {
      "text/plain": [
       "\"Right on man I appreciate it. I don't really care if I am blocked. I got 6 neighbors with wifi. That guy is really being a dick though!! Humility man!! That's whats important!! I'll see you around! Cheers!! -\""
      ]
     },
     "metadata": {},
     "output_type": "display_data"
    },
    {
     "data": {
      "text/plain": [
       "\"It's abrevashun! It makes stuff shorter, U f***er! I'll Nswer dat queshton, now f*** off & let me do it!  5:00, 6 August 2007 (UTC)\""
      ]
     },
     "metadata": {},
     "output_type": "display_data"
    },
    {
     "data": {
      "text/plain": [
       "'Too Cool \\n\\nPlease please please... get a life...should you not continue being a boring bastardtits lawyer and stop spoiling my giggles ps do you live with your mum ??? pps i speak french too, voulais vous F**K YOU! ppps hugs babes'"
      ]
     },
     "metadata": {},
     "output_type": "display_data"
    },
    {
     "data": {
      "text/plain": [
       "'commiemoron seems to make alot of mistakes gosh darn it. mayeb hes retarded.'"
      ]
     },
     "metadata": {},
     "output_type": "display_data"
    },
    {
     "name": "stdout",
     "output_type": "stream",
     "text": [
      "\n",
      "240 (38.52%) negative label were predicted to be positive\n",
      "Samples:\n"
     ]
    },
    {
     "data": {
      "text/plain": [
       "'Kind Sir , have you ever tried to suck your own wiener? \\n\\nI mean you should mate and also try to catch a blowfish and f*ck its brains out\\n you curry munching f*ck.And jimmy Wales called....he didnt flush today so u could go eat his shit!'"
      ]
     },
     "metadata": {},
     "output_type": "display_data"
    },
    {
     "data": {
      "text/plain": [
       "'\"\\n\\nHow is it the wrong way round? If I had fucked up the pages when I edited stuff or had deleted information by accident then MAYBE I would have read the guidelines. But my edits were perfectly harmless, they must of taken you about 3 seconds to delete. And you didn\\'t actually point out what I was doing wrong, writing \"\"disruptive\"\" all the time is a great help...\"'"
      ]
     },
     "metadata": {},
     "output_type": "display_data"
    },
    {
     "data": {
      "text/plain": [
       "\"In the time it took me to add this, Mifter and E again defaced the page; someone keep an eye on it for me, I have a lecture in 6 minutes and I'm running late. You may have to hop on your phone to avoid the 3RR as all our edits will show up as one user and it may give them fodder for fucking with us more, they seem the gung-ho cyber bully type that scared me off of wiki years back. ( (K)\""
      ]
     },
     "metadata": {},
     "output_type": "display_data"
    },
    {
     "data": {
      "text/plain": [
       "'you have a small penis'"
      ]
     },
     "metadata": {},
     "output_type": "display_data"
    },
    {
     "data": {
      "text/plain": [
       "'\"\\nThe Graceful Slick....\\nIs non other than an ungraceful dick!81.131.78.39  \"'"
      ]
     },
     "metadata": {},
     "output_type": "display_data"
    },
    {
     "name": "stdout",
     "output_type": "stream",
     "text": [
      "\n",
      "\n"
     ]
    }
   ],
   "source": [
    "analyze_class(2)"
   ]
  },
  {
   "cell_type": "markdown",
   "metadata": {
    "colab_type": "text",
    "id": "Lwpco7aB1GrZ"
   },
   "source": [
    "### 4.2.4 Threat"
   ]
  },
  {
   "cell_type": "code",
   "execution_count": 13,
   "metadata": {
    "colab": {
     "autoexec": {
      "startup": false,
      "wait_interval": 0
     },
     "base_uri": "https://localhost:8080/",
     "height": 258,
     "output_extras": [
      {
       "item_id": 1
      },
      {
       "item_id": 2
      },
      {
       "item_id": 3
      },
      {
       "item_id": 4
      },
      {
       "item_id": 5
      },
      {
       "item_id": 6
      },
      {
       "item_id": 7
      }
     ]
    },
    "colab_type": "code",
    "executionInfo": {
     "elapsed": 257,
     "status": "ok",
     "timestamp": 1518573466922,
     "user": {
      "displayName": "Chuan Li",
      "photoUrl": "//lh3.googleusercontent.com/-ry1V_A03qTg/AAAAAAAAAAI/AAAAAAAAAh4/Ea41Em8n49A/s50-c-k-no/photo.jpg",
      "userId": "106476928809257656982"
     },
     "user_tz": 480
    },
    "id": "gQgcRgOq1GLO",
    "outputId": "69893ed6-1588-41db-eff3-e86766fac8e6"
   },
   "outputs": [
    {
     "name": "stdout",
     "output_type": "stream",
     "text": [
      "89 predicted incorrectly (0.28% of all samples)\n",
      "\n",
      "89 (100.00%) positive label were predicted to be negative\n",
      "Samples:\n"
     ]
    },
    {
     "data": {
      "text/plain": [
       "'Wikistalking \\n\\nUnless you wish to be targeted yourself in a similar manner to Deskana I suggest to cease stalking me and reverting my edits at once'"
      ]
     },
     "metadata": {},
     "output_type": "display_data"
    },
    {
     "data": {
      "text/plain": [
       "\"=why are you being so rude? i only want to help you motherfuckers. fuck! retards! you're such retards! i hope you all die! seriously, die!!!\""
      ]
     },
     "metadata": {},
     "output_type": "display_data"
    },
    {
     "data": {
      "text/plain": [
       "'Hello \\n\\nHey asshole! I kill you. Filthy Muslim. 114.160.71.148'"
      ]
     },
     "metadata": {},
     "output_type": "display_data"
    },
    {
     "data": {
      "text/plain": [
       "'If you block me for telling you what you are, there will bw a holy war, I promise you that.'"
      ]
     },
     "metadata": {},
     "output_type": "display_data"
    },
    {
     "data": {
      "text/plain": [
       "'Nazis like you deserve worse than death. \\n\\nI will make sure you suffer horribly.'"
      ]
     },
     "metadata": {},
     "output_type": "display_data"
    },
    {
     "name": "stdout",
     "output_type": "stream",
     "text": [
      "\n",
      "0 (0.00%) negative label were predicted to be positive\n",
      "\n",
      "\n"
     ]
    }
   ],
   "source": [
    "analyze_class(3)"
   ]
  },
  {
   "cell_type": "markdown",
   "metadata": {
    "colab_type": "text",
    "id": "6lkRScLJ1fGN"
   },
   "source": [
    "### 4.2.5 Insult"
   ]
  },
  {
   "cell_type": "code",
   "execution_count": 14,
   "metadata": {
    "colab": {
     "autoexec": {
      "startup": false,
      "wait_interval": 0
     },
     "base_uri": "https://localhost:8080/",
     "height": 360,
     "output_extras": [
      {
       "item_id": 1
      },
      {
       "item_id": 2
      },
      {
       "item_id": 3
      },
      {
       "item_id": 4
      },
      {
       "item_id": 5
      },
      {
       "item_id": 6
      },
      {
       "item_id": 7
      },
      {
       "item_id": 8
      },
      {
       "item_id": 9
      },
      {
       "item_id": 10
      },
      {
       "item_id": 11
      },
      {
       "item_id": 12
      },
      {
       "item_id": 13
      }
     ]
    },
    "colab_type": "code",
    "executionInfo": {
     "elapsed": 270,
     "status": "ok",
     "timestamp": 1518573480301,
     "user": {
      "displayName": "Chuan Li",
      "photoUrl": "//lh3.googleusercontent.com/-ry1V_A03qTg/AAAAAAAAAAI/AAAAAAAAAh4/Ea41Em8n49A/s50-c-k-no/photo.jpg",
      "userId": "106476928809257656982"
     },
     "user_tz": 480
    },
    "id": "zJ2VKxgK1hRC",
    "outputId": "68a3f353-831b-426f-85dc-9d65a39561cd"
   },
   "outputs": [
    {
     "name": "stdout",
     "output_type": "stream",
     "text": [
      "906 predicted incorrectly (2.84% of all samples)\n",
      "\n",
      "562 (62.03%) positive label were predicted to be negative\n",
      "Samples:\n"
     ]
    },
    {
     "data": {
      "text/plain": [
       "\"Dude... At the end you fucked my article Sector 06 Rourkela \\n\\nDude,\\nwhat is your problem..Are you nut's!!!\\nThere are many articles in wiki.. that doesn't match wiki criteria...And you find it mine only..\\n\\nIf I create and edit my own article...about my own place then what the fuck is your problem...\\nYou show... fucking barn star's... in wiki.. I don't know.. how it seems..\\nWithout looking to the talk page of Sector 06 Rourkela... you made the article for speedy deletion.\\n\\nI guess. you don't have any other work. You could have pasted a notification prior to deletion.\\nIt seems you will not let me work in my article...\\n\\nMr. WikiDan61.. I don't know who are you..And for how many heck year's you are their in wiki...\\n Please don't touch my article's...  I'm trying my best to work on it.. With every proof given.Thanks.\""
      ]
     },
     "metadata": {},
     "output_type": "display_data"
    },
    {
     "data": {
      "text/plain": [
       "\"I don't care..pity u inferior indonesia..country without vision..even u speak english, it can't change the fact that u r indonesian..loser always loser..  Shah\""
      ]
     },
     "metadata": {},
     "output_type": "display_data"
    },
    {
     "data": {
      "text/plain": [
       "'Dont be gay - Hitler was a form of hero!!'"
      ]
     },
     "metadata": {},
     "output_type": "display_data"
    },
    {
     "data": {
      "text/plain": [
       "'You sound like you are sexually frustrated. When did you last have sex?'"
      ]
     },
     "metadata": {},
     "output_type": "display_data"
    },
    {
     "data": {
      "text/plain": [
       "'NE2 enjoys sexual congress with goats'"
      ]
     },
     "metadata": {},
     "output_type": "display_data"
    },
    {
     "name": "stdout",
     "output_type": "stream",
     "text": [
      "\n",
      "344 (37.97%) negative label were predicted to be positive\n",
      "Samples:\n"
     ]
    },
    {
     "data": {
      "text/plain": [
       "'Sock puppet my ass! \\n\\nHow dare you call me a sock puppet? i am my own creation. i am the one you will call XALWINE! and you will hear tales of my mercy. and tales of my wrath. and i have chozen wrath for you. my will be done. do what tho wilt. you will rue the day that you rejected that article.'"
      ]
     },
     "metadata": {},
     "output_type": "display_data"
    },
    {
     "data": {
      "text/plain": [
       "\"GET FUCKED UP. GET FUCKEEED UP.  GOT A DRINK THAT YOU CANT PUT DOWN???/ GET FUCK UP GET FUCKED UP.  I'M FUCKED UP RIGHT NOW!\""
      ]
     },
     "metadata": {},
     "output_type": "display_data"
    },
    {
     "data": {
      "text/plain": [
       "\"FUCK YOU I WON'T DO WHAT YOU TELL ME!-ANON\""
      ]
     },
     "metadata": {},
     "output_type": "display_data"
    },
    {
     "data": {
      "text/plain": [
       "'arsehole \\n\\nI was right, you fuckwit'"
      ]
     },
     "metadata": {},
     "output_type": "display_data"
    },
    {
     "data": {
      "text/plain": [
       "'Eat a dick \\n\\nEat a dick, wikinazi.\\n\\nBig dickBig dickBig dickBig dickBig dickBig dickBig dickBig dickBig dickBig dickBig dickBig dickBig dick'"
      ]
     },
     "metadata": {},
     "output_type": "display_data"
    },
    {
     "name": "stdout",
     "output_type": "stream",
     "text": [
      "\n",
      "\n"
     ]
    }
   ],
   "source": [
    "analyze_class(4)"
   ]
  },
  {
   "cell_type": "markdown",
   "metadata": {
    "colab_type": "text",
    "id": "ybjmae651jxY"
   },
   "source": [
    "### 4.2.6 Identity Hate"
   ]
  },
  {
   "cell_type": "code",
   "execution_count": 15,
   "metadata": {
    "colab": {
     "autoexec": {
      "startup": false,
      "wait_interval": 0
     },
     "base_uri": "https://localhost:8080/",
     "height": 258,
     "output_extras": [
      {
       "item_id": 1
      },
      {
       "item_id": 2
      },
      {
       "item_id": 3
      },
      {
       "item_id": 4
      },
      {
       "item_id": 5
      },
      {
       "item_id": 6
      },
      {
       "item_id": 7
      }
     ]
    },
    "colab_type": "code",
    "executionInfo": {
     "elapsed": 440,
     "status": "ok",
     "timestamp": 1518573482230,
     "user": {
      "displayName": "Chuan Li",
      "photoUrl": "//lh3.googleusercontent.com/-ry1V_A03qTg/AAAAAAAAAAI/AAAAAAAAAh4/Ea41Em8n49A/s50-c-k-no/photo.jpg",
      "userId": "106476928809257656982"
     },
     "user_tz": 480
    },
    "id": "6ojSnXP51jPm",
    "outputId": "d1ee8ad8-5407-43c8-cab2-a5f77112fa2c"
   },
   "outputs": [
    {
     "name": "stdout",
     "output_type": "stream",
     "text": [
      "267 predicted incorrectly (0.84% of all samples)\n",
      "\n",
      "265 (99.25%) positive label were predicted to be negative\n",
      "Samples:\n"
     ]
    },
    {
     "data": {
      "text/plain": [
       "'\"\\n\\n Hey, polish slavic monkeys \\n\\nYou slavic monkeys can wright here all the shit what you want. But all world knews what realy you are - the trashy mutantes from Lower Dniepr. Your \"\"poland\"\" have no rights to exist - it is only band of slavic trampes.\\n\\nVilnietis\"'"
      ]
     },
     "metadata": {},
     "output_type": "display_data"
    },
    {
     "data": {
      "text/plain": [
       "\"Stupid Asian Bitch  \\n\\nYou're an idiot and you should go back to ching chong land\""
      ]
     },
     "metadata": {},
     "output_type": "display_data"
    },
    {
     "data": {
      "text/plain": [
       "'Pedophiles, sex criminals, Imperial Japan, Nazi Germany and other such degenerate ilk also are minority views and for good reason.  And by the way, showcasing your stalker skills and googling my name is quite retarded and anti-social behavior.  Please stop and seek therapy cause you need it.'"
      ]
     },
     "metadata": {},
     "output_type": "display_data"
    },
    {
     "data": {
      "text/plain": [
       "\"... AmeriKKKans are fucking gay ... U.S.A. sucks balls\\n\\n'' ... The whole world hate U.S.A. incest population\""
      ]
     },
     "metadata": {},
     "output_type": "display_data"
    },
    {
     "data": {
      "text/plain": [
       "'Listen you piece of shit , pencil necked twerp that you are. Nowhere did I make any further attacks to anyone. How about you get a fuckin life rather than getting a little stiffy from banning people. I couldnt give a slight fuck about your lame arse wiki. Its bullshit anyways. You people just like reading your own crap. Brisbane is a fuckin small place and google is a great tool. \\n\\nYet another christian piece of shit. I shit on your god you little fuck.'"
      ]
     },
     "metadata": {},
     "output_type": "display_data"
    },
    {
     "name": "stdout",
     "output_type": "stream",
     "text": [
      "\n",
      "2 (0.75%) negative label were predicted to be positive\n",
      "\n",
      "\n"
     ]
    }
   ],
   "source": [
    "analyze_class(5)"
   ]
  },
  {
   "cell_type": "markdown",
   "metadata": {
    "colab_type": "text",
    "id": "GYOBKlWc12Rc"
   },
   "source": [
    "### 4.2.7 Overview"
   ]
  },
  {
   "cell_type": "code",
   "execution_count": 16,
   "metadata": {
    "colab": {
     "autoexec": {
      "startup": false,
      "wait_interval": 0
     },
     "base_uri": "https://localhost:8080/",
     "height": 235,
     "output_extras": [
      {
       "item_id": 1
      }
     ]
    },
    "colab_type": "code",
    "executionInfo": {
     "elapsed": 247,
     "status": "ok",
     "timestamp": 1518573484262,
     "user": {
      "displayName": "Chuan Li",
      "photoUrl": "//lh3.googleusercontent.com/-ry1V_A03qTg/AAAAAAAAAAI/AAAAAAAAAh4/Ea41Em8n49A/s50-c-k-no/photo.jpg",
      "userId": "106476928809257656982"
     },
     "user_tz": 480
    },
    "id": "w9g39VJ4n00f",
    "outputId": "8e4f9efb-795c-4253-de18-d7b2be471bb0"
   },
   "outputs": [
    {
     "data": {
      "text/html": [
       "<div>\n",
       "<style scoped>\n",
       "    .dataframe tbody tr th:only-of-type {\n",
       "        vertical-align: middle;\n",
       "    }\n",
       "\n",
       "    .dataframe tbody tr th {\n",
       "        vertical-align: top;\n",
       "    }\n",
       "\n",
       "    .dataframe thead th {\n",
       "        text-align: right;\n",
       "    }\n",
       "</style>\n",
       "<table border=\"1\" class=\"dataframe\">\n",
       "  <thead>\n",
       "    <tr style=\"text-align: right;\">\n",
       "      <th></th>\n",
       "      <th>toxic</th>\n",
       "      <th>severe_toxic</th>\n",
       "      <th>obscene</th>\n",
       "      <th>threat</th>\n",
       "      <th>insult</th>\n",
       "      <th>identity_hate</th>\n",
       "    </tr>\n",
       "  </thead>\n",
       "  <tbody>\n",
       "    <tr>\n",
       "      <th>label‰ of all</th>\n",
       "      <td>96</td>\n",
       "      <td>10</td>\n",
       "      <td>53</td>\n",
       "      <td>2</td>\n",
       "      <td>49</td>\n",
       "      <td>8</td>\n",
       "    </tr>\n",
       "    <tr>\n",
       "      <th>total wrong</th>\n",
       "      <td>1209</td>\n",
       "      <td>327</td>\n",
       "      <td>623</td>\n",
       "      <td>89</td>\n",
       "      <td>906</td>\n",
       "      <td>267</td>\n",
       "    </tr>\n",
       "    <tr>\n",
       "      <th>P-&gt;N</th>\n",
       "      <td>851</td>\n",
       "      <td>317</td>\n",
       "      <td>383</td>\n",
       "      <td>89</td>\n",
       "      <td>562</td>\n",
       "      <td>265</td>\n",
       "    </tr>\n",
       "    <tr>\n",
       "      <th>N-&gt;P</th>\n",
       "      <td>358</td>\n",
       "      <td>10</td>\n",
       "      <td>240</td>\n",
       "      <td>0</td>\n",
       "      <td>344</td>\n",
       "      <td>2</td>\n",
       "    </tr>\n",
       "    <tr>\n",
       "      <th>P-&gt;N %</th>\n",
       "      <td>70</td>\n",
       "      <td>96</td>\n",
       "      <td>61</td>\n",
       "      <td>100</td>\n",
       "      <td>62</td>\n",
       "      <td>99</td>\n",
       "    </tr>\n",
       "    <tr>\n",
       "      <th>N-&gt;P %</th>\n",
       "      <td>29</td>\n",
       "      <td>3</td>\n",
       "      <td>38</td>\n",
       "      <td>0</td>\n",
       "      <td>37</td>\n",
       "      <td>0</td>\n",
       "    </tr>\n",
       "  </tbody>\n",
       "</table>\n",
       "</div>"
      ],
      "text/plain": [
       "               toxic  severe_toxic  obscene  threat  insult  identity_hate\n",
       "label‰ of all     96            10       53       2      49              8\n",
       "total wrong     1209           327      623      89     906            267\n",
       "P->N             851           317      383      89     562            265\n",
       "N->P             358            10      240       0     344              2\n",
       "P->N %            70            96       61     100      62             99\n",
       "N->P %            29             3       38       0      37              0"
      ]
     },
     "execution_count": 16,
     "metadata": {},
     "output_type": "execute_result"
    }
   ],
   "source": [
    "overview.astype(int)"
   ]
  },
  {
   "cell_type": "markdown",
   "metadata": {
    "colab_type": "text",
    "id": "EdjD2HB1263p"
   },
   "source": [
    "# 5. Observation and Conclusion\n",
    "\n",
    "\n",
    "*   The classes that have more positive labels performed better. Giving these rare labels more weight may solve this.\n",
    "*   False negative is more common than false positive, although the severity of this problem varies among the classes.\n",
    "*   Quotes could be a potential cause of error (need further test).\n",
    "*   The removal stopwords (e.g. Your) could be a reason why the model failed to interpret the meaning of some comments (need further test).\n",
    "*   It seems that the model cannot differentiate those comments that are filled with toxic content and those that have a small portion of it. Utilizing TFIDF may solve this.\n",
    "\n",
    "\n"
   ]
  }
 ],
 "metadata": {
  "accelerator": "GPU",
  "colab": {
   "default_view": {},
   "name": "RCNN performance analysis.ipynb",
   "provenance": [],
   "version": "0.3.2",
   "views": {}
  },
  "kernelspec": {
   "display_name": "Python 3",
   "language": "python",
   "name": "python3"
  },
  "language_info": {
   "codemirror_mode": {
    "name": "ipython",
    "version": 3
   },
   "file_extension": ".py",
   "mimetype": "text/x-python",
   "name": "python",
   "nbconvert_exporter": "python",
   "pygments_lexer": "ipython3",
   "version": "3.5.2"
  }
 },
 "nbformat": 4,
 "nbformat_minor": 1
}
